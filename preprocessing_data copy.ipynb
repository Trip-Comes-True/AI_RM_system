{
 "cells": [
  {
   "cell_type": "code",
   "execution_count": null,
   "metadata": {},
   "outputs": [],
   "source": [
    "import pandas as pd\n",
    "import numpy as np\n",
    "import os\n",
    "import os.path as path"
   ]
  },
  {
   "cell_type": "code",
   "execution_count": null,
   "metadata": {},
   "outputs": [],
   "source": [
    "data_path = \"./data/정보대 SW contest/279.국내 여행로그 데이터(서부권)/01.데이터/Training/02.라벨링데이터/TL_csv\""
   ]
  },
  {
   "cell_type": "code",
   "execution_count": null,
   "metadata": {},
   "outputs": [],
   "source": [
    "# csv_name_list = os.listdir(data_path)"
   ]
  },
  {
   "cell_type": "code",
   "execution_count": null,
   "metadata": {},
   "outputs": [],
   "source": [
    "# print(csv_name_list)"
   ]
  },
  {
   "cell_type": "code",
   "execution_count": null,
   "metadata": {},
   "outputs": [],
   "source": [
    "# for csv_name in csv_name_list:\n",
    "#     print(\"===================={}===================\".format(csv_name))\n",
    "#     df = pd.read_csv(path.join(data_path, csv_name))\n",
    "#     print(df.describe())"
   ]
  },
  {
   "cell_type": "code",
   "execution_count": null,
   "metadata": {},
   "outputs": [],
   "source": [
    "def print_isna(df):\n",
    "    print(pd.isna(df).sum())"
   ]
  },
  {
   "cell_type": "markdown",
   "metadata": {},
   "source": [
    "# 학습 데이터 셋 만들기\n",
    "\n",
    "# INPUT\n",
    "\n",
    "> 소득\n",
    "    - INC || INCOME, HOUSE_INCOME <========== tn_traveller_master_여행객 Master_C \n",
    "\n",
    "    특이사항 - 소득 값이 두가지 존재\n",
    "\n",
    "    INCOMDE사용으로 일단 대체\n",
    "    \n",
    "> 미션\n",
    "    - MIS || TRAVEL_MISSION(==TRAVEL_PURPOSE) <========== tn_travel_여행_C\n",
    "\n",
    "    특이사항 - 여행 미션내 값들이 여러개 존재\n",
    "\n",
    "    3개로 중복 없이\n",
    "\n",
    "> 여행동반자관계\n",
    "    - TCR || REL_CD <========== tn_companion_info_동반자정보_C\n",
    "\n",
    "    기본값 0\n",
    "\n",
    "> 숙소유형 \n",
    "    - HTY || LODGING_TYPE_CD <========= tn_visit_area_info_방문지정보_C\n",
    "\n",
    "\n",
    "> 성별\n",
    "    - GEN || GENDER  <========== tn_traveller_master_여행객 Master_C\n",
    "\n",
    "    특이사항 남, 여로 적혀 있음\n",
    "\n",
    "    해당 갑은 남 : 1, 여 : 0으로 변경\n",
    "\n",
    "    null 값은 2 : 성별 불명 로 대체\n",
    "    \n",
    "    -> 기본값 2\n",
    "\n",
    "> 여행동기\n",
    "    - TMT || TRAVEL_MOTiVE_1 ~ 3 <========== tn_traveller_master_여행객 Master_C\n",
    "\n",
    "    해당 항목이 1~3번 존재\n",
    "\n",
    "    3가지 중복 없이 입력\n",
    "\n",
    "> 여행스타일\n",
    "    - STY || TRAVEL_STYL_1 ~ 8  <========== tn_traveller_master_여행객 Master_C\n",
    "\n",
    "    해당 항목이 1~8번이 존재\n",
    "\n",
    "    => 1개만 받을 예정\n",
    "    학습 시 max값으로 대체\n",
    "\n",
    "> 동반자연령대\n",
    "    - AGE || COMPANION_AGE_GRP <============ tn_companion_info_동반자정보_C\n",
    "\n",
    "    기본값 0\n",
    "    \n",
    "\n",
    "#################################### 여기 까지는 후에 타 서버에서 받아서 예측시 입력해 줄 데이터 #####################################\n",
    "\n",
    "\n",
    "\n",
    "#################################################################################################################################\n",
    "\n",
    "# OUTPUT\n",
    " \n",
    "\n",
    "> (DGSTFN + REVISIT_INTENTOIN + RCMDTN_INTENTION) / 3 =======>>>>>>>>> 실제 출력\n",
    "    \n",
    "    모두 tn_visit_area_info_방문지정보_C 에 존재\n",
    "\n",
    "    '()' 안의 더해지는 값들은 각 값의 범위가 1~\n",
    "\n",
    "> 여행지 만족도\n",
    "\n",
    "    train 간에는 모델은 입력된 여행 데이터를 바탕으로 각 여행지의 점수를 맞추는 작업을 수행한다.\n",
    "        \n",
    "        출력한 점수 중 상위 k개의 장소를 선정 해당 장소 중에 정답이 존재한다면\n",
    "    \n",
    "    predict의 경우 모든 여행지에 대해서 점수를 매기는 작업 수행 -> softmax를 통해서 표준화하고 내림차순 정렬\n",
    "\n",
    "\n",
    "\n",
    "> 여행 ID  ======>>>>>> 필요 X\n",
    "    - || TRAVEL_ID <======= tn_traveller_master_여행객 Master_C\n",
    "\n",
    "> 방문지 주소 # 전처리 후 리스트해서 전달\n",
    "    - - || LOTNO_ADDR <====== tn_visit_area_info_방문지정보_C\n",
    "\n",
    "    몇 항목만 사용\n",
    "        VIS\n",
    "            1:자연관광지\n",
    "            2:역사/유적/종교 시설\n",
    "            3:문화 시설\n",
    "            4:상업지구\n",
    "            5:레저\n",
    "            6:테마시설\n",
    "            7:산책로, 둘레길 등\n",
    "            8:지역 축제/행사\n",
    "            13: 체험 활동 관광지\n",
    "\n",
    "            보류\n",
    "                11:식당/카페\n",
    "                \n",
    "\n",
    "-------------------------------------------------------\n",
    "\n",
    "            제거\n",
    "                10:상점\n",
    "                12:기타\n",
    "                24:숙소\n",
    "                21:집\n",
    "                22:친구/친구집\n",
    "                23:사무실\n",
    "                \n",
    "\n",
    "2가지 경우가 존재\n",
    "\n",
    "1. travel id를 확률을 맞추게하고\n",
    "\n",
    "    2. 확률 분포를 이용 해당 분포 순으로 해당 id가 방문한 지역 전달\n",
    "\n",
    "2. 방문지 수에 맞게 데이터를 확장한다.\n",
    "\n",
    "    2. 이 경우 추가적인 데이터를 심어주는게 좋을 듯하다 예를 들어 순서 방문 순서 정보나 재방문 점수 같은 정보를 추가해서 유저 정보 + 다른 추가 정보 이용 학습\n"
   ]
  },
  {
   "cell_type": "code",
   "execution_count": null,
   "metadata": {},
   "outputs": [],
   "source": [
    "input_data_csv_name_list = [\"tn_traveller_master_여행객 Master_C\", \"tn_travel_여행_C\", \"tn_companion_info_동반자정보_C\", \"tn_visit_area_info_방문지정보_C\"]"
   ]
  },
  {
   "cell_type": "code",
   "execution_count": null,
   "metadata": {},
   "outputs": [],
   "source": [
    "output_data_csv_name_list = [\"tn_travel_여행_C\",\"tn_visit_area_info_방문지정보_C\"]"
   ]
  },
  {
   "cell_type": "code",
   "execution_count": null,
   "metadata": {},
   "outputs": [],
   "source": [
    "data_path = \"./data/정보대 SW contest/279.국내 여행로그 데이터(서부권)/01.데이터/Training/02.라벨링데이터/TL_csv\"\n",
    "extender = '.csv'\n",
    "\n",
    "index_dict = {'TRAVEL_ID':['1']}\n",
    "# input_dict = {'여행객':[],'여행':[],'동반자정보':[],'방문지정보':[]}\n",
    "# 방문지 정보는 output에서 같이 처리\n",
    "input_dict = {'여행객':[],'여행':[],'동반자정보':[]}\n",
    "output_dict = {'TRAVELER_ID':[],'방문지정보':[]}\n",
    "print(index_dict)\n",
    "print(input_dict)\n",
    "print(output_dict)\n",
    "print(data_path)"
   ]
  },
  {
   "cell_type": "code",
   "execution_count": null,
   "metadata": {},
   "outputs": [],
   "source": [
    "tmp_df = pd.read_csv(path.join(data_path, input_data_csv_name_list[0]+extender))\n",
    "\n",
    "index_list = tmp_df['TRAVELER_ID'].values\n",
    "index_dict['TRAVEL_ID'] = index_list\n",
    "print(index_dict)\n",
    "# print(tmp_df['TRAVELER_ID'].values)"
   ]
  },
  {
   "cell_type": "code",
   "execution_count": null,
   "metadata": {},
   "outputs": [],
   "source": [
    "get_list = ['TRAVELER_ID','INCOME', 'GENDER','HOUSE_INCOME', 'TRAVEL_MOTIVE_1','TRAVEL_MOTIVE_2','TRAVEL_MOTIVE_3', \n",
    "            'TRAVEL_STYL_1', 'TRAVEL_STYL_2', 'TRAVEL_STYL_3', 'TRAVEL_STYL_4', 'TRAVEL_STYL_5', 'TRAVEL_STYL_6', 'TRAVEL_STYL_7', 'TRAVEL_STYL_8']\n",
    "\n",
    "tmp_df = pd.read_csv(path.join(data_path, input_data_csv_name_list[0]+extender))\n",
    "tmp_value = tmp_df['TRAVELER_ID'].values\n",
    "\n",
    "tmp_value = [ s[0]+\"_\"+s for s in tmp_value ]\n",
    "tmp_df['TRAVEL_ID'] = tmp_value\n",
    "tmp_df = tmp_df.drop('TRAVELER_ID', axis='columns')\n",
    "\n",
    "tmp_df = tmp_df.set_index(\"TRAVEL_ID\")\n",
    "\n",
    "input_dict['여행객'] = tmp_df[get_list[1:]]\n",
    "print(input_dict['여행객'].columns)\n",
    "print(input_dict['여행객'].head())\n",
    "print_isna(input_dict['여행객'])\n"
   ]
  },
  {
   "cell_type": "code",
   "execution_count": null,
   "metadata": {},
   "outputs": [],
   "source": [
    "get_list = ['TRAVEL_ID', 'TRAVEL_MISSION']\n",
    "\n",
    "tmp_df = pd.read_csv(path.join(data_path, input_data_csv_name_list[1]+extender))\n",
    "tmp_df = tmp_df.set_index(get_list[0])\n",
    "\n",
    "input_dict['여행'] = tmp_df[get_list[1:]]\n",
    "print_isna(input_dict['여행'])"
   ]
  },
  {
   "cell_type": "code",
   "execution_count": null,
   "metadata": {},
   "outputs": [],
   "source": [
    "get_list = ['TRAVEL_ID', 'REL_CD', 'COMPANION_AGE_GRP']\n",
    "\n",
    "tmp_df = pd.read_csv(path.join(data_path, input_data_csv_name_list[2]+extender))\n",
    "tmp_df = tmp_df.set_index(get_list[0])\n",
    "input_dict['동반자정보'] = tmp_df[get_list[1:]]\n",
    "print_isna(input_dict['동반자정보'])"
   ]
  },
  {
   "cell_type": "code",
   "execution_count": null,
   "metadata": {},
   "outputs": [],
   "source": [
    "# get_list = ['TRAVEL_ID', 'LODGING_TYPE_CD', 'VISIT_AREA_TYPE_CD']\n",
    "\n",
    "# tmp_df = pd.read_csv(path.join(data_path, input_data_csv_name_list[3]+extender))\n",
    "# tmp_df = tmp_df.set_index(get_list[0])\n",
    "# input_dict['방문지정보'] = tmp_df[get_list[1:]]\n",
    "# # print(tmp_df)\n",
    "\n",
    "\"\"\"output_dict의 방문지정보에서 같이 처리\"\"\""
   ]
  },
  {
   "cell_type": "code",
   "execution_count": null,
   "metadata": {},
   "outputs": [],
   "source": [
    "get_list = ['TRAVEL_ID','TRAVELER_ID']\n",
    "\n",
    "tmp_df = pd.read_csv(path.join(data_path, output_data_csv_name_list[0]+extender))\n",
    "tmp_df = tmp_df.set_index(get_list[0])\n",
    "output_dict['TRAVELER_ID'] = tmp_df[get_list[1:]]\n",
    "# print(output_dict['TRAVELER_ID'])\n",
    "print_isna(output_dict['TRAVELER_ID'])"
   ]
  },
  {
   "cell_type": "code",
   "execution_count": null,
   "metadata": {},
   "outputs": [],
   "source": [
    "get_list = ['TRAVEL_ID', 'VISIT_AREA_ID', 'LOTNO_ADDR','LODGING_TYPE_CD', 'VISIT_AREA_TYPE_CD','REVISIT_YN','DGSTFN', 'REVISIT_INTENTION', 'RCMDTN_INTENTION', 'X_COORD','Y_COORD']\n",
    "\n",
    "tmp_df = pd.read_csv(path.join(data_path, output_data_csv_name_list[1]+extender))\n",
    "tmp_df = tmp_df.set_index(get_list[0])\n",
    "output_dict['방문지정보'] = tmp_df[get_list[1:]]\n",
    "print_isna(output_dict['방문지정보'])\n",
    "# print(tmp_df)"
   ]
  },
  {
   "cell_type": "code",
   "execution_count": null,
   "metadata": {},
   "outputs": [],
   "source": [
    "for keys in input_dict:\n",
    "    print(keys)\n",
    "    # print(input_dict[keys].head())\n",
    "    tmp_df = input_dict[keys]\n",
    "    print(\"----------------------------------------\")\n",
    "    print(tmp_df.index)\n",
    "    # print(tmp_df.sort_index().head())\n",
    "    print(\"----------------------------------------\"*2)\n"
   ]
  },
  {
   "cell_type": "code",
   "execution_count": null,
   "metadata": {},
   "outputs": [],
   "source": [
    "for keys in input_dict:\n",
    "    print(keys)\n",
    "    # print(input_dict[keys].head())\n",
    "    tmp_df = input_dict[keys]\n",
    "    print(\"----------------------------------------\")\n",
    "    print(tmp_df.columns)\n",
    "    # print(tmp_df.sort_index().head())\n",
    "    print(\"----------------------------------------\"*2)\n",
    "print(\"----------------------------------------\"*2)\n",
    "print(\"----------------------------------------\"*2)\n",
    "print(\"----------------------------------------\"*2)\n",
    "for keys in output_dict:\n",
    "    print(keys)\n",
    "    # print(input_dict[keys].head())\n",
    "    tmp_df = output_dict[keys]\n",
    "    print(\"----------------------------------------\")\n",
    "    print(tmp_df.columns)\n",
    "    # print(tmp_df.sort_index().head())\n",
    "    print(\"----------------------------------------\"*2)\n"
   ]
  },
  {
   "cell_type": "markdown",
   "metadata": {},
   "source": [
    "# 방분지 정보 정제\n",
    "\n",
    "> 아래는 해당 번호들 제외하고 걸러야한다\n",
    "\n",
    "VIS - VISIT_AREA_TYPE_CD 사용할 항목들\n",
    "\n",
    "            1:자연관광지\n",
    "            2:역사/유적/종교 시설\n",
    "            3:문화 시설\n",
    "            4:상업지구\n",
    "            5:레저\n",
    "            6:테마시설\n",
    "            7:산책로, 둘레길 등\n",
    "            8:지역 축제/행사\n",
    "            11: 식당 카페\n",
    "            13: 체험 활동 관광지\n",
    "\n",
    "            \n",
    "\n",
    "\n",
    "> 아래는 계산해서 SCORE로 추가\n",
    "\n",
    "(DGSTFN + REVISIT_INTENTOIN + RCMDTN_INTENTION) / 3 =======>>>>>>>>> 실제 출력\n",
    "    \n",
    "    모두 tn_visit_area_info_방문지정보_C 에 존재\n",
    "\n",
    "    '()' 안의 더해지는 값들은 각 값의 범위가 1~5\n",
    "\n",
    "\n",
    "> 최종 11352개의 방문지 존재 해당 정보를 바탕으로 데이터 수립 \n",
    "\n",
    "    TRAVERL_ID에 해당 하는 정보들을 추가 적으로 붙여넣어 준다.\n",
    "\n"
   ]
  },
  {
   "cell_type": "code",
   "execution_count": null,
   "metadata": {},
   "outputs": [],
   "source": [
    "tmp_df = output_dict['방문지정보']\n",
    "print(tmp_df.head())\n",
    "\n",
    "new_df = tmp_df[tmp_df['VISIT_AREA_TYPE_CD'].isin([1,2,3,4,5,6,7,8,11,13])]\n",
    "new_df.loc[:,'SCORE'] = ((new_df['DGSTFN'] + new_df['REVISIT_INTENTION'] + new_df['RCMDTN_INTENTION']) / 3.0).round(4)\n",
    "# print(new_df)\n",
    "output_dict['방문지정보'] = new_df\n",
    "# print(output_dict['방문지정보'])\n",
    "\n",
    "duplicated_index = new_df.index.duplicated()\n",
    "print(duplicated_index)"
   ]
  },
  {
   "cell_type": "code",
   "execution_count": null,
   "metadata": {},
   "outputs": [],
   "source": [
    "# tmp_df = input_dict['방문지정보']\n",
    "# print(tmp_df.head())\n",
    "\n",
    "# new_df = tmp_df[tmp_df['VISIT_AREA_TYPE_CD'].isin([1,2,3,4,5,6,7,8,13])]\n",
    "# # print(new_df)\n",
    "# new_df = new_df.drop(\"VISIT_AREA_TYPE_CD\", axis='columns')\n",
    "# input_dict['방문지정보'] = new_df\n",
    "# # print(output_dict['방문지정보'])\n",
    "\n",
    "# duplicated_index = new_df.index.duplicated()\n",
    "# print(duplicated_index)"
   ]
  },
  {
   "cell_type": "markdown",
   "metadata": {},
   "source": [
    "# 데이터 이어 붙이기\n",
    "\n",
    "나머지 정보들을 output_dict['방문자정보']에 적절한 client_code에 이어 붙여 준다.\n",
    "\n",
    "\n",
    "여행객\n",
    "----------------------------------------\n",
    "Index(['INCOME', 'HOUSE_INCOME', 'TRAVEL_MOTIVE_1', 'TRAVEL_MOTIVE_2',\n",
    "       'TRAVEL_MOTIVE_3', 'TRAVEL_STYL_1', 'TRAVEL_STYL_2', 'TRAVEL_STYL_3',\n",
    "       'TRAVEL_STYL_4', 'TRAVEL_STYL_5', 'TRAVEL_STYL_6', 'TRAVEL_STYL_7',\n",
    "       'TRAVEL_STYL_8'],\n",
    "      dtype='object')\n",
    "--------------------------------------------------------------------------------\n",
    "여행\n",
    "----------------------------------------\n",
    "Index(['TRAVEL_MISSION'], dtype='object')\n",
    "--------------------------------------------------------------------------------\n",
    "동반자정보\n",
    "----------------------------------------\n",
    "Index(['REL_CD', 'COMPANION_AGE_GRP'], dtype='object')\n",
    "--------------------------------------------------------------------------------\n",
    "방문지정보\n",
    "----------------------------------------\n",
    "Index(['LODGING_TYPE_CD'], dtype='object')\n",
    "--------------------------------------------------------------------------------\n",
    "--------------------------------------------------------------------------------\n",
    "--------------------------------------------------------------------------------\n",
    "--------------------------------------------------------------------------------\n",
    "TRAVELER_ID\n",
    "----------------------------------------\n",
    "Index(['TRAVELER_ID'], dtype='object')\n",
    "--------------------------------------------------------------------------------\n",
    "방문지정보\n",
    "----------------------------------------\n",
    "Index(['LOTNO_ADDR', 'VISIT_AREA_TYPE_CD', 'REVISIT_YN', 'DGSTFN',\n",
    "       'REVISIT_INTENTION', 'RCMDTN_INTENTION'],\n",
    "      dtype='object')\n",
    "--------------------------------------------------------------------------------"
   ]
  },
  {
   "cell_type": "code",
   "execution_count": null,
   "metadata": {},
   "outputs": [],
   "source": [
    "output_dict['최종'] = output_dict['방문지정보'].copy()"
   ]
  },
  {
   "cell_type": "code",
   "execution_count": null,
   "metadata": {},
   "outputs": [],
   "source": [
    "output_dict['최종']\n",
    "tmp_df = output_dict['최종']\n",
    "for col_name in output_dict['최종'].columns:\n",
    "    print(col_name)\n",
    "    print(pd.isna(tmp_df[col_name]).sum())\n",
    "    print(\"=================\")"
   ]
  },
  {
   "cell_type": "code",
   "execution_count": null,
   "metadata": {},
   "outputs": [],
   "source": [
    "tmp_df = output_dict['최종']\n",
    "# tmp_df = tmp_df.merge(input_dict['동반자정보'], left_index=True, right_index=True)\n",
    "tmp_df = tmp_df.join(input_dict['동반자정보'], how='inner', on=['TRAVEL_ID'])\n",
    "# tmp_df.loc['a_a000202', 'COMPANION_AGE_GRP'] = -1\n",
    "# print(tmp_df.loc['a_a000202'])\n",
    "print(output_dict['최종'].shape)\n",
    "print(tmp_df.shape)\n",
    "print(input_dict['동반자정보'].shape)\n",
    "print(pd.isna(input_dict['동반자정보']).sum())\n",
    "print(tmp_df)\n",
    "print(\"***\"*10)\n",
    "print(output_dict)"
   ]
  },
  {
   "cell_type": "code",
   "execution_count": null,
   "metadata": {},
   "outputs": [],
   "source": [
    "for keys in input_dict:\n",
    "    tmp_df = input_dict[keys]\n",
    "    tmp_col = tmp_df.columns\n",
    "    # for col_name in tmp_col:\n",
    "    #     tmp_df[col_name]\n",
    "    \n",
    "    if keys==\"동반자정보\":\n",
    "        break\n",
    "    \n",
    "    print(keys)\n",
    "    print(output_dict['최종'].shape)\n",
    "    print(output_dict['최종'].join(tmp_df).shape)\n",
    "    output_dict['최종'] = output_dict['최종'].join(tmp_df)\n",
    "    print(output_dict['최종'].columns)\n",
    "    \n",
    "        "
   ]
  },
  {
   "cell_type": "code",
   "execution_count": null,
   "metadata": {},
   "outputs": [],
   "source": [
    "tmp_df = output_dict[\"최종\"]\n",
    "output_index_list = list(set(tmp_df.index.to_list()))\n",
    "input_index_list = list(set(input_dict[\"동반자정보\"].index.to_list()))\n",
    "# print(output_index_list)\n",
    "# print(input_index_list)\n",
    "# print(input_dict[\"동반자정보\"])\n",
    "# print(input_dict[\"동반자정보\"].loc[\"c_c000341\"])\n",
    "\n",
    "for index in output_index_list:\n",
    "    REL_CD = 0\n",
    "    COMPANION_AGE_GRP = 0\n",
    "    if index in input_index_list:\n",
    "        tmp_len = input_dict[\"동반자정보\"].loc[index].shape\n",
    "        tmp_data = input_dict[\"동반자정보\"].loc[index]\n",
    "        if len(tmp_len) >= 2:\n",
    "            tmp_data = tmp_data.iloc[0].to_frame()\n",
    "        else:\n",
    "            tmp_data = tmp_data.to_frame()\n",
    "        # print(index)\n",
    "        # print(len(tmp_data))\n",
    "        # print(tmp_data.to_frame())\n",
    "        # print(tmp_data)\n",
    "        # print(tmp_data.values[0,0])\n",
    "        # print(tmp_data.values[1,0])\n",
    "        tmp_df.loc[index,\"REL_CD\"] = tmp_data.values[0,0]\n",
    "        tmp_df.loc[index,\"COMPANION_AGE_GRP\"]= tmp_data.values[1,0]\n",
    "        \n",
    "output_dict['최종'] = tmp_df"
   ]
  },
  {
   "cell_type": "code",
   "execution_count": null,
   "metadata": {},
   "outputs": [],
   "source": [
    "print(output_dict['최종'].columns)"
   ]
  },
  {
   "cell_type": "code",
   "execution_count": null,
   "metadata": {},
   "outputs": [],
   "source": [
    "tmp_df = output_dict['최종']\n",
    "for col_name in output_dict['최종'].columns:\n",
    "    print(col_name)\n",
    "    print(pd.isna(tmp_df[col_name]).sum())\n",
    "    print(\"=================\")\n",
    "    \n",
    "\n",
    "tmp_df.to_csv(\"./data/tmp_dataset.csv\")"
   ]
  },
  {
   "cell_type": "markdown",
   "metadata": {},
   "source": [
    "# 데이터 보정\n",
    "\n",
    "> LOTNO_ADDR\n",
    "\n",
    "    885\n",
    "\n",
    "    필수로 존재해야 하는 값이다.\n",
    "    없으면 해당 행은 모두 제거\n",
    "\n",
    "=================\n",
    "> LODGING_TYPE_CD\n",
    "\n",
    "    11295\n",
    "\n",
    "    숙소를 쓰는 경우가 흔하지 않은 것인지  na가 많다\n",
    "    나머지는 모두 0으로 채운다\n",
    "\n",
    "=================\n",
    "> VISIT_AREA_TYPE_CD\n",
    "\n",
    "    0\n",
    "\n",
    "\n",
    "=================\n",
    "> REVISIT_YN\n",
    "\n",
    "    17\n",
    "    재방문 할 것인지 여부\n",
    "    yes - 1\n",
    "    no - 0으로 변경 후 \n",
    "    0 값으로 나머지 보정\n",
    "\n",
    "=================\n",
    "> DGSTFN\n",
    "\n",
    "    18\n",
    "    만족도 점수\n",
    "\n",
    "    필수 값이다\n",
    "    평균 값으로 대체\n",
    "\n",
    "=================\n",
    "> REVISIT_INTENTION\n",
    "    \n",
    "    18\n",
    "    재방문의향\n",
    "\n",
    "    필수 값이다\n",
    "    평균 값으로 대체\n",
    "\n",
    "\n",
    "=================\n",
    "> RCMDTN_INTENTION\n",
    "\n",
    "    18\n",
    "    추천의향이다\n",
    "\n",
    "    필수 값이다\n",
    "    평균 값으로 대체\n",
    "\n",
    "=================\n",
    "> SCORE\n",
    "\n",
    "    18\n",
    "    위의 값으로 계산된 점수 이다\n",
    "\n",
    "    필수 값이다\n",
    "    평균 값으로 대체\n",
    "\n",
    "=================\n",
    "> INCOME\n",
    "    \n",
    "    2345\n",
    "    개인 소득 수준이다\n",
    "\n",
    "    0으로 대체\n",
    "\n",
    "=================\n",
    "> GENDER\n",
    "    \n",
    "    4003\n",
    "\n",
    "    2로 대체\n",
    "\n",
    "=================\n",
    "\n",
    "> HOUSE_INCOME\n",
    "    \n",
    "    4581\n",
    "\n",
    "    사용x 날림\n",
    "\n",
    "=================\n",
    "> TRAVEL_MOTIVE_1\n",
    "\n",
    "    2348\n",
    "\n",
    "    \n",
    "\n",
    "# default로 10:기타로 설정\n",
    "\n",
    "=================\n",
    "> TRAVEL_MOTIVE_2\n",
    "    \n",
    "    2709\n",
    "=================\n",
    "> TRAVEL_MOTIVE_3\n",
    "    \n",
    "    3128\n",
    "=================\n",
    "> TRAVEL_STYL_1\n",
    "   \n",
    "    2345\n",
    "\n",
    "# 앞의 3개의 값만을 사용\n",
    "# default로 4:중립 사용\n",
    "\n",
    "=================\n",
    "> TRAVEL_STYL_2\n",
    "    \n",
    "    2345\n",
    "=================\n",
    "> TRAVEL_STYL_3\n",
    "    \n",
    "    2345\n",
    "=================\n",
    "> TRAVEL_STYL_4\n",
    "    \n",
    "    2345\n",
    "=================\n",
    "> TRAVEL_STYL_5\n",
    "    \n",
    "    2345\n",
    "=================\n",
    "> TRAVEL_STYL_6\n",
    "    \n",
    "    2345\n",
    "=================\n",
    "> TRAVEL_STYL_7\n",
    "    \n",
    "    2345\n",
    "=================\n",
    "> TRAVEL_STYL_8\n",
    "    \n",
    "    2345\n",
    "=================\n",
    "> TRAVEL_MISSION\n",
    "    \n",
    "    2322\n",
    "    \n",
    "# 해당 값은 0으로 초기화 적당한 default 값이 존재하지 않음\n",
    "=================\n",
    "\n",
    "=================\n",
    "> REL_CD\n",
    "\n",
    "    7368\n",
    "\n",
    "# 0으로 대체\n",
    "=================\n",
    "> COMPANION_AGE_GRP\n",
    "\n",
    "    7368\n",
    "\n",
    "# 0으로 대체\n",
    "================="
   ]
  },
  {
   "cell_type": "code",
   "execution_count": null,
   "metadata": {},
   "outputs": [],
   "source": [
    "final_df_bk = tmp_df.copy().reset_index()\n",
    "final_df = final_df_bk.copy()\n",
    "print(final_df.index)\n",
    "print(final_df.columns)"
   ]
  },
  {
   "cell_type": "code",
   "execution_count": null,
   "metadata": {},
   "outputs": [],
   "source": [
    "target_col = \"LOTNO_ADDR\"\n",
    "\n",
    "print(final_df.shape)\n",
    "print_isna(final_df[target_col])\n",
    "tmp_df = final_df\n",
    "\n",
    "tmp_df = tmp_df.loc[~pd.isna(tmp_df.loc[:,target_col])]\n",
    "\n",
    "\n",
    "\n",
    "print(tmp_df.shape)\n",
    "print_isna(tmp_df[target_col])\n"
   ]
  },
  {
   "cell_type": "code",
   "execution_count": null,
   "metadata": {},
   "outputs": [],
   "source": [
    "final_df = tmp_df"
   ]
  },
  {
   "cell_type": "code",
   "execution_count": null,
   "metadata": {},
   "outputs": [],
   "source": [
    "target_col = \"X_COORD\"\n",
    "\n",
    "print(final_df.shape)\n",
    "print_isna(final_df[target_col])\n",
    "tmp_df = final_df\n",
    "\n",
    "tmp_df = tmp_df.loc[~pd.isna(tmp_df.loc[:,target_col])]\n",
    "\n",
    "\n",
    "\n",
    "print(tmp_df.shape)\n",
    "print_isna(tmp_df[target_col])"
   ]
  },
  {
   "cell_type": "code",
   "execution_count": null,
   "metadata": {},
   "outputs": [],
   "source": [
    "final_df = tmp_df"
   ]
  },
  {
   "cell_type": "code",
   "execution_count": null,
   "metadata": {},
   "outputs": [],
   "source": [
    "target_col = \"LODGING_TYPE_CD\"\n",
    "\n",
    "print(final_df.shape)\n",
    "print_isna(final_df[target_col])\n",
    "\n",
    "tmp_df = final_df\n",
    "tmp_df[target_col] = tmp_df[target_col].fillna(0)\n",
    "\n",
    "print(tmp_df.shape)\n",
    "print_isna(tmp_df[target_col])\n"
   ]
  },
  {
   "cell_type": "code",
   "execution_count": null,
   "metadata": {},
   "outputs": [],
   "source": [
    "final_df = tmp_df"
   ]
  },
  {
   "cell_type": "code",
   "execution_count": null,
   "metadata": {},
   "outputs": [],
   "source": [
    "target_col = \"REVISIT_YN\"\n",
    "\n",
    "print(final_df.shape)\n",
    "print_isna(final_df[target_col])\n",
    "\n",
    "tmp_df = final_df\n",
    "\n",
    "tmp_df.loc[tmp_df[target_col]==\"Y\", target_col] = 1\n",
    "tmp_df.loc[tmp_df[target_col]==\"N\", target_col] = 0\n",
    "\n",
    "# tmp_df[target_col] = tmp_df[target_col].fillna(tmp_df[target_col].max())\n",
    "tmp_df[target_col] = tmp_df[target_col].fillna(0)\n",
    "\n",
    "print(tmp_df[target_col])\n",
    "\n",
    "o = ((tmp_df[target_col]==1).sum())\n",
    "z = ((tmp_df[target_col]==0).sum())\n",
    "\n",
    "print(o+z)\n",
    "\n",
    "print(tmp_df.shape)\n",
    "print_isna(tmp_df[target_col])"
   ]
  },
  {
   "cell_type": "code",
   "execution_count": null,
   "metadata": {},
   "outputs": [],
   "source": [
    "final_df = tmp_df"
   ]
  },
  {
   "cell_type": "code",
   "execution_count": null,
   "metadata": {},
   "outputs": [],
   "source": [
    "target_col = \"DGSTFN\"\n",
    "\n",
    "print(final_df.shape)\n",
    "print_isna(final_df[target_col])\n",
    "\n",
    "tmp_df = final_df\n",
    "\n",
    "tmp_df[target_col] = tmp_df[target_col].fillna(tmp_df[target_col].mean())\n",
    "\n",
    "print(tmp_df[target_col].head())\n",
    "\n",
    "print(tmp_df.shape)\n",
    "print_isna(tmp_df[target_col])"
   ]
  },
  {
   "cell_type": "code",
   "execution_count": null,
   "metadata": {},
   "outputs": [],
   "source": [
    "final_df = tmp_df"
   ]
  },
  {
   "cell_type": "code",
   "execution_count": null,
   "metadata": {},
   "outputs": [],
   "source": [
    "target_col = \"REVISIT_INTENTION\"\n",
    "\n",
    "print(final_df.shape)\n",
    "print_isna(final_df[target_col])\n",
    "\n",
    "tmp_df = final_df\n",
    "\n",
    "tmp_df[target_col] = tmp_df[target_col].fillna(tmp_df[target_col].mean())\n",
    "\n",
    "print(tmp_df[target_col].head())\n",
    "\n",
    "print(tmp_df.shape)\n",
    "print_isna(tmp_df[target_col])"
   ]
  },
  {
   "cell_type": "code",
   "execution_count": null,
   "metadata": {},
   "outputs": [],
   "source": [
    "final_df = tmp_df"
   ]
  },
  {
   "cell_type": "code",
   "execution_count": null,
   "metadata": {},
   "outputs": [],
   "source": [
    "target_col = \"RCMDTN_INTENTION\"\n",
    "\n",
    "print(final_df.shape)\n",
    "print_isna(final_df[target_col])\n",
    "\n",
    "tmp_df = final_df\n",
    "\n",
    "tmp_df[target_col] = tmp_df[target_col].fillna(tmp_df[target_col].mean())\n",
    "\n",
    "print(tmp_df[target_col].head())\n",
    "\n",
    "print(tmp_df.shape)\n",
    "print_isna(tmp_df[target_col])"
   ]
  },
  {
   "cell_type": "code",
   "execution_count": null,
   "metadata": {},
   "outputs": [],
   "source": [
    "final_df = tmp_df"
   ]
  },
  {
   "cell_type": "code",
   "execution_count": null,
   "metadata": {},
   "outputs": [],
   "source": [
    "target_col = \"SCORE\"\n",
    "\n",
    "print(final_df.shape)\n",
    "print_isna(final_df[target_col])\n",
    "\n",
    "tmp_df = final_df\n",
    "\n",
    "tmp_df[target_col] = tmp_df[target_col].fillna(tmp_df[target_col].mean())\n",
    "\n",
    "print(tmp_df[target_col].head())\n",
    "\n",
    "print(tmp_df.shape)\n",
    "print_isna(tmp_df[target_col])"
   ]
  },
  {
   "cell_type": "code",
   "execution_count": null,
   "metadata": {},
   "outputs": [],
   "source": [
    "final_df = tmp_df"
   ]
  },
  {
   "cell_type": "code",
   "execution_count": null,
   "metadata": {},
   "outputs": [],
   "source": [
    "target_col = \"INCOME\"\n",
    "\n",
    "print(final_df.shape)\n",
    "print_isna(final_df[target_col])\n",
    "\n",
    "tmp_df = final_df\n",
    "\n",
    "# tmp_df[target_col] = tmp_df[target_col].fillna(tmp_df[target_col].mean())\n",
    "tmp_df[target_col] = tmp_df[target_col].fillna(0)\n",
    "\n",
    "print(tmp_df[target_col].head())\n",
    "\n",
    "print(tmp_df.shape)\n",
    "print_isna(tmp_df[target_col])"
   ]
  },
  {
   "cell_type": "code",
   "execution_count": null,
   "metadata": {},
   "outputs": [],
   "source": [
    "final_df = tmp_df"
   ]
  },
  {
   "cell_type": "code",
   "execution_count": null,
   "metadata": {},
   "outputs": [],
   "source": [
    "target_col = \"HOUSE_INCOME\"\n",
    "\n",
    "print(final_df.shape)\n",
    "print_isna(final_df[target_col])\n",
    "\n",
    "tmp_df = final_df\n",
    "tmp_df = tmp_df.drop(axis=1, columns=target_col)\n",
    "\n",
    "print(tmp_df.shape)"
   ]
  },
  {
   "cell_type": "code",
   "execution_count": null,
   "metadata": {},
   "outputs": [],
   "source": [
    "final_df = tmp_df"
   ]
  },
  {
   "cell_type": "code",
   "execution_count": null,
   "metadata": {},
   "outputs": [],
   "source": [
    "print(final_df.shape)\n",
    "# print_isna(final_df[target_col])\n",
    "\n",
    "tmp_df = final_df\n",
    "\n",
    "for i in range(1,4):\n",
    "    target_col = \"TRAVEL_MOTIVE_\" + str(i)\n",
    "\n",
    "    tmp_df[target_col] = tmp_df[target_col].fillna(10)\n",
    "\n",
    "    print(tmp_df[target_col].head())\n",
    "\n",
    "    print((tmp_df[target_col]==10).sum())\n",
    "    print(tmp_df.shape)\n",
    "    print_isna(tmp_df[target_col])"
   ]
  },
  {
   "cell_type": "code",
   "execution_count": null,
   "metadata": {},
   "outputs": [],
   "source": [
    "final_df = tmp_df"
   ]
  },
  {
   "cell_type": "code",
   "execution_count": null,
   "metadata": {},
   "outputs": [],
   "source": [
    "tmp_col = [ c for c in tmp_df.columns if \"TRAVEL_STYL\" in c]\n",
    "print(tmp_df[tmp_col].describe())\n",
    "print(tmp_col)\n",
    "print(tmp_df[tmp_col].mode(axis=0))\n",
    "print(tmp_df[tmp_col].mode(axis=1))\n",
    "print(tmp_df[tmp_col].mode(axis=1)[0].value_counts())\n",
    "tmp_df['TRAVEL_STYL_0'] = tmp_df[tmp_col].mode(axis=1)[0]\n"
   ]
  },
  {
   "cell_type": "code",
   "execution_count": null,
   "metadata": {},
   "outputs": [],
   "source": [
    "print(final_df.shape)\n",
    "# print_isna(final_df[target_col])\n",
    "\n",
    "tmp_df = final_df\n",
    "\n",
    "for i in range(0,9):\n",
    "    target_col = \"TRAVEL_STYL_\" + str(i)\n",
    "\n",
    "    print((tmp_df[target_col]==4).sum())\n",
    "    \n",
    "    tmp_df[target_col] = tmp_df[target_col].fillna(4)\n",
    "\n",
    "    print(tmp_df[target_col].head())\n",
    "\n",
    "    print((tmp_df[target_col]==4).sum())\n",
    "    print(tmp_df.shape)\n",
    "    print_isna(tmp_df[target_col])"
   ]
  },
  {
   "cell_type": "code",
   "execution_count": null,
   "metadata": {},
   "outputs": [],
   "source": [
    "tmp_col = [ c for c in tmp_df.columns if \"TRAVEL_STYL\" in c]\n",
    "tmp_col.append(tmp_df.columns[-1])\n",
    "print(tmp_df[tmp_col].describe())\n",
    "print(tmp_col)\n",
    "print(tmp_df[tmp_col].mode(axis=0))\n",
    "print(tmp_df[tmp_col].mode(axis=1))\n",
    "print(tmp_df[tmp_col].mode(axis=1)[0].value_counts())\n"
   ]
  },
  {
   "cell_type": "code",
   "execution_count": null,
   "metadata": {},
   "outputs": [],
   "source": [
    "tmp_col = tmp_df.columns\n",
    "print(tmp_col)\n",
    "new_col = ['TRAVEL_ID','VISIT_AREA_ID', 'GENDER','LOTNO_ADDR', 'LODGING_TYPE_CD', 'VISIT_AREA_TYPE_CD',\n",
    "       'REVISIT_YN', 'DGSTFN', 'REVISIT_INTENTION', 'RCMDTN_INTENTION',\n",
    "       'SCORE', 'INCOME', 'TRAVEL_MOTIVE_1', 'TRAVEL_MOTIVE_2',\n",
    "       'TRAVEL_MOTIVE_3', 'TRAVEL_STYL_0', 'TRAVEL_STYL_1', 'TRAVEL_STYL_2', 'TRAVEL_STYL_3',\n",
    "       'TRAVEL_STYL_4', 'TRAVEL_STYL_5', 'TRAVEL_STYL_6', 'TRAVEL_STYL_7',\n",
    "       'TRAVEL_STYL_8', 'TRAVEL_MISSION', 'REL_CD', 'COMPANION_AGE_GRP', 'X_COORD', 'Y_COORD']\n",
    "tmp_df = tmp_df[new_col]\n",
    "tmp_col = tmp_df.columns\n",
    "print(tmp_col)"
   ]
  },
  {
   "cell_type": "code",
   "execution_count": null,
   "metadata": {},
   "outputs": [],
   "source": [
    "final_df = tmp_df"
   ]
  },
  {
   "cell_type": "code",
   "execution_count": null,
   "metadata": {},
   "outputs": [],
   "source": [
    "target_col = \"TRAVEL_MISSION\"\n",
    "\n",
    "print(final_df.shape)\n",
    "print_isna(final_df[target_col])\n",
    "\n",
    "tmp_df = final_df\n",
    "\n",
    "tmp_df[target_col] = tmp_df[target_col].fillna(0)\n",
    "\n",
    "print(tmp_df[target_col].head())\n",
    "\n",
    "print(tmp_df.shape)\n",
    "print_isna(tmp_df[target_col])"
   ]
  },
  {
   "cell_type": "code",
   "execution_count": null,
   "metadata": {},
   "outputs": [],
   "source": [
    "final_df = tmp_df"
   ]
  },
  {
   "cell_type": "code",
   "execution_count": null,
   "metadata": {},
   "outputs": [],
   "source": [
    "target_col = \"REL_CD\"\n",
    "\n",
    "print(final_df.shape)\n",
    "print_isna(final_df[target_col])\n",
    "\n",
    "tmp_df = final_df\n",
    "\n",
    "tmp_df[target_col] = tmp_df[target_col].fillna(0)\n",
    "\n",
    "print(tmp_df[target_col].head())\n",
    "\n",
    "print(tmp_df.shape)\n",
    "print_isna(tmp_df[target_col])"
   ]
  },
  {
   "cell_type": "code",
   "execution_count": null,
   "metadata": {},
   "outputs": [],
   "source": [
    "final_df = tmp_df"
   ]
  },
  {
   "cell_type": "code",
   "execution_count": null,
   "metadata": {},
   "outputs": [],
   "source": [
    "target_col = \"COMPANION_AGE_GRP\"\n",
    "\n",
    "print(final_df.shape)\n",
    "print_isna(final_df[target_col])\n",
    "\n",
    "tmp_df = final_df\n",
    "\n",
    "tmp_df[target_col] = tmp_df[target_col].fillna(0)\n",
    "\n",
    "print(tmp_df[target_col].head())\n",
    "\n",
    "print(tmp_df.shape)\n",
    "print_isna(tmp_df[target_col])"
   ]
  },
  {
   "cell_type": "code",
   "execution_count": null,
   "metadata": {},
   "outputs": [],
   "source": [
    "final_df = tmp_df"
   ]
  },
  {
   "cell_type": "code",
   "execution_count": null,
   "metadata": {},
   "outputs": [],
   "source": [
    "target_col = \"GENDER\"\n",
    "\n",
    "print(final_df.shape)\n",
    "print_isna(final_df[target_col])\n",
    "\n",
    "tmp_df = final_df\n",
    "\n",
    "tmp_df[target_col] = tmp_df[target_col].fillna(2)\n",
    "\n",
    "tmp_df[tmp_df[target_col]==\"남\"] = 1\n",
    "tmp_df[tmp_df[target_col]==\"여\"] = 0\n",
    "\n",
    "print(tmp_df[target_col].head())\n",
    "\n",
    "print(tmp_df.shape)\n",
    "print_isna(tmp_df[target_col])"
   ]
  },
  {
   "cell_type": "code",
   "execution_count": null,
   "metadata": {},
   "outputs": [],
   "source": [
    "final_df = tmp_df"
   ]
  },
  {
   "cell_type": "code",
   "execution_count": null,
   "metadata": {},
   "outputs": [],
   "source": [
    "tmp_df = final_df.copy()\n",
    "tmp_df[\"TRAVEL_MISSION_1\"]=0\n",
    "tmp_df[\"TRAVEL_MISSION_2\"]=0\n",
    "tmp_df[\"TRAVEL_MISSION_3\"]=0\n",
    "\n",
    "print(tmp_df['TRAVEL_MISSION'])\n",
    "# print(tmp_df['TRAVEL_MISSION'].str.split(';').str[0])\n",
    "\n",
    "tmp_df['TRAVEL_MISSION_1'] = tmp_df['TRAVEL_MISSION'].str.split(';').str[0]\n",
    "tmp_df['TRAVEL_MISSION_2'] = tmp_df['TRAVEL_MISSION'].str.split(';').str[1]\n",
    "tmp_df['TRAVEL_MISSION_3'] = tmp_df['TRAVEL_MISSION'].str.split(';').str[2]\n",
    "\n",
    "# tmp_df[tmp_df['TRAVEL_MISSION_1']==\"\"]['TRAVEL_MISSION_1']\n",
    "# print(tmp_df[\"TRAVEL_MISSION_2\"])\n",
    "# print(tmp_df[tmp_df['TRAVEL_MISSION_2']==\"\"]['TRAVEL_MISSION_2'])\n",
    "# tmp_df = tmp_df['TRAVEL_MISSION_2'].replace(\"\",\"0\")\n",
    "# print(tmp_df[tmp_df['TRAVEL_MISSION_2']==\"\"]['TRAVEL_MISSION_2'])\n",
    "# tmp_df[tmp_df['TRAVEL_MISSION_3']==\"\"]['TRAVEL_MISSION_3']\n",
    "\n",
    "tmp_df['TRAVEL_MISSION_1'] = tmp_df['TRAVEL_MISSION_1'].fillna(0)\n",
    "tmp_df['TRAVEL_MISSION_2'] = tmp_df['TRAVEL_MISSION_2'].fillna(0)\n",
    "tmp_df['TRAVEL_MISSION_3'] = tmp_df['TRAVEL_MISSION_3'].fillna(0)\n"
   ]
  },
  {
   "cell_type": "code",
   "execution_count": null,
   "metadata": {},
   "outputs": [],
   "source": [
    "final_df = tmp_df"
   ]
  },
  {
   "cell_type": "code",
   "execution_count": null,
   "metadata": {},
   "outputs": [],
   "source": [
    "tmp_df = final_df\n",
    "print(tmp_df.columns)\n",
    "for col_name in final_df.columns:\n",
    "    print(col_name)\n",
    "    print(pd.isna(tmp_df[col_name]).sum())\n",
    "    print(\"=================\")\n",
    "    \n",
    "new_col = ['TRAVEL_ID','VISIT_AREA_ID', 'GENDER','INCOME', 'TRAVEL_MISSION', 'REL_CD', 'LODGING_TYPE_CD',\n",
    "        'TRAVEL_MISSION_1', 'TRAVEL_MISSION_2', 'TRAVEL_MISSION_3',         \n",
    "        'TRAVEL_MOTIVE_1', 'TRAVEL_MOTIVE_2', 'TRAVEL_MOTIVE_3',\n",
    "        'TRAVEL_STYL_0', 'TRAVEL_STYL_1', 'TRAVEL_STYL_2', 'TRAVEL_STYL_3', 'TRAVEL_STYL_4',\n",
    "        'TRAVEL_STYL_5', 'TRAVEL_STYL_6','TRAVEL_STYL_7', 'TRAVEL_STYL_8',\n",
    "        'COMPANION_AGE_GRP',\n",
    "        'REVISIT_YN', 'DGSTFN','REVISIT_INTENTION', 'RCMDTN_INTENTION','SCORE',\n",
    "        'LOTNO_ADDR',  'VISIT_AREA_TYPE_CD', 'X_COORD', 'Y_COORD']\n",
    "tmp_df = tmp_df[new_col]\n",
    "tmp_df.to_csv(\"./travel_dataset.csv\")"
   ]
  },
  {
   "cell_type": "code",
   "execution_count": null,
   "metadata": {},
   "outputs": [],
   "source": [
    "tmp_df = pd.read_csv('./travel_dataset.csv')\n",
    "tmp_df = tmp_df.fillna(0)\n",
    "print(tmp_df.columns)\n",
    "for col_name in final_df.columns:\n",
    "    print(col_name)\n",
    "    print(pd.isna(tmp_df[col_name]).sum())\n",
    "    print(\"=================\")\n",
    "    \n",
    "tmp_df.to_csv(\"./travel_dataset.csv\")\n",
    "    "
   ]
  }
 ],
 "metadata": {
  "kernelspec": {
   "display_name": "flask",
   "language": "python",
   "name": "python3"
  },
  "language_info": {
   "codemirror_mode": {
    "name": "ipython",
    "version": 3
   },
   "file_extension": ".py",
   "mimetype": "text/x-python",
   "name": "python",
   "nbconvert_exporter": "python",
   "pygments_lexer": "ipython3",
   "version": "3.11.3"
  }
 },
 "nbformat": 4,
 "nbformat_minor": 2
}
