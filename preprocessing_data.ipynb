{
 "cells": [
  {
   "cell_type": "code",
   "execution_count": 1652,
   "metadata": {},
   "outputs": [],
   "source": [
    "import pandas as pd\n",
    "import numpy as np\n",
    "import os\n",
    "import os.path as path"
   ]
  },
  {
   "cell_type": "code",
   "execution_count": 1653,
   "metadata": {},
   "outputs": [],
   "source": [
    "data_path = \"./data/정보대 SW contest/279.국내 여행로그 데이터(서부권)/01.데이터/Training/02.라벨링데이터/TL_csv\""
   ]
  },
  {
   "cell_type": "code",
   "execution_count": 1654,
   "metadata": {},
   "outputs": [],
   "source": [
    "# csv_name_list = os.listdir(data_path)"
   ]
  },
  {
   "cell_type": "code",
   "execution_count": 1655,
   "metadata": {},
   "outputs": [],
   "source": [
    "# print(csv_name_list)"
   ]
  },
  {
   "cell_type": "code",
   "execution_count": 1656,
   "metadata": {},
   "outputs": [],
   "source": [
    "# for csv_name in csv_name_list:\n",
    "#     print(\"===================={}===================\".format(csv_name))\n",
    "#     df = pd.read_csv(path.join(data_path, csv_name))\n",
    "#     print(df.describe())"
   ]
  },
  {
   "cell_type": "code",
   "execution_count": 1657,
   "metadata": {},
   "outputs": [],
   "source": [
    "def print_isna(df):\n",
    "    print(pd.isna(df).sum())"
   ]
  },
  {
   "cell_type": "markdown",
   "metadata": {},
   "source": [
    "# 학습 데이터 셋 만들기\n",
    "\n",
    "# INPUT\n",
    "\n",
    "> 소득\n",
    "    - INC || INCOME, HOUSE_INCOME <========== tn_traveller_master_여행객 Master_C \n",
    "\n",
    "    특이사항 - 소득 값이 두가지 존재\n",
    "\n",
    "    INCOMDE사용으로 일단 대체\n",
    "    \n",
    "> 미션\n",
    "    - MIS || TRAVEL_MISSION(==TRAVEL_PURPOSE) <========== tn_travel_여행_C\n",
    "\n",
    "    특이사항 - 여행 미션내 값들이 여러개 존재\n",
    "\n",
    "> 여행동반자관계\n",
    "    - TCR || REL_CD <========== tn_companion_info_동반자정보_C\n",
    "\n",
    "> 숙소유형 \n",
    "    - HTY || LODGING_TYPE_CD <========= tn_visit_area_info_방문지정보_C\n",
    "\n",
    "\n",
    "> 성별\n",
    "    - GEN || GENDER  <========== tn_traveller_master_여행객 Master_C\n",
    "\n",
    "    특이사항 남, 여로 적혀 있음\n",
    "\n",
    "    해당 갑은 남 : 1, 여 : 0으로 변경\n",
    "\n",
    "> 여행동기\n",
    "    - TMT || TRAVEL_MOTiVE_1 ~ 3 <========== tn_traveller_master_여행객 Master_C\n",
    "\n",
    "    해당 항목이 1~3번 존재\n",
    "\n",
    "    3가지 중복 없이 입력\n",
    "\n",
    "> 여행스타일\n",
    "    - STY || TRAVEL_STYL_1 ~ 8  <========== tn_traveller_master_여행객 Master_C\n",
    "\n",
    "    해당 항목이 1~8번이 존재\n",
    "\n",
    "    => 1개만 받을 예정\n",
    "    학습 시 max값으로 대체\n",
    "\n",
    "> 동반자연령대\n",
    "    - AGE || COMPANION_AGE_GRP <============ tn_companion_info_동반자정보_C\n",
    "    \n",
    "\n",
    "#################################### 여기 까지는 후에 타 서버에서 받아서 예측시 입력해 줄 데이터 #####################################\n",
    "\n",
    "\n",
    "\n",
    "#################################################################################################################################\n",
    "\n",
    "# OUTPUT\n",
    " \n",
    "\n",
    "> (DGSTFN + REVISIT_INTENTOIN + RCMDTN_INTENTION) / 3 =======>>>>>>>>> 실제 출력\n",
    "    \n",
    "    모두 tn_visit_area_info_방문지정보_C 에 존재\n",
    "\n",
    "    '()' 안의 더해지는 값들은 각 값의 범위가 1~\n",
    "\n",
    "> 여행지 만족도\n",
    "\n",
    "    train 간에는 모델은 입력된 여행 데이터를 바탕으로 각 여행지의 점수를 맞추는 작업을 수행한다.\n",
    "        \n",
    "        출력한 점수 중 상위 k개의 장소를 선정 해당 장소 중에 정답이 존재한다면\n",
    "    \n",
    "    predict의 경우 모든 여행지에 대해서 점수를 매기는 작업 수행 -> softmax를 통해서 표준화하고 내림차순 정렬\n",
    "\n",
    "\n",
    "\n",
    "> 여행 ID  ======>>>>>> 필요 X\n",
    "    - || TRAVEL_ID <======= tn_traveller_master_여행객 Master_C\n",
    "\n",
    "> 방문지 주소 # 전처리 후 리스트해서 전달\n",
    "    - - || LOTNO_ADDR <====== tn_visit_area_info_방문지정보_C\n",
    "\n",
    "    몇 항목만 사용\n",
    "        VIS\n",
    "            1:자연관광지\n",
    "            2:역사/유적/종교 시설\n",
    "            3:문화 시설\n",
    "            4:상업지구\n",
    "            5:레저\n",
    "            6:테마시설\n",
    "            7:산책로, 둘레길 등\n",
    "            8:지역 축제/행사\n",
    "            13: 체험 활동 관광지\n",
    "\n",
    "            보류\n",
    "                10:상점\n",
    "                11:식당/카페\n",
    "                12:기타\n",
    "                24:숙소\n",
    "\n",
    "            제거\n",
    "                21:집\n",
    "                22:친구/친구집\n",
    "                23:사무실\n",
    "                \n",
    "\n",
    "2가지 경우가 존재\n",
    "\n",
    "1. travel id를 확률을 맞추게하고\n",
    "\n",
    "    2. 확률 분포를 이용 해당 분포 순으로 해당 id가 방문한 지역 전달\n",
    "\n",
    "2. 방문지 수에 맞게 데이터를 확장한다.\n",
    "\n",
    "    2. 이 경우 추가적인 데이터를 심어주는게 좋을 듯하다 예를 들어 순서 방문 순서 정보나 재방문 점수 같은 정보를 추가해서 유저 정보 + 다른 추가 정보 이용 학습\n"
   ]
  },
  {
   "cell_type": "code",
   "execution_count": 1658,
   "metadata": {},
   "outputs": [],
   "source": [
    "input_data_csv_name_list = [\"tn_traveller_master_여행객 Master_C\", \"tn_travel_여행_C\", \"tn_companion_info_동반자정보_C\", \"tn_visit_area_info_방문지정보_C\"]"
   ]
  },
  {
   "cell_type": "code",
   "execution_count": 1659,
   "metadata": {},
   "outputs": [],
   "source": [
    "output_data_csv_name_list = [\"tn_travel_여행_C\",\"tn_visit_area_info_방문지정보_C\"]"
   ]
  },
  {
   "cell_type": "code",
   "execution_count": 1660,
   "metadata": {},
   "outputs": [
    {
     "name": "stdout",
     "output_type": "stream",
     "text": [
      "{'TRAVEL_ID': ['1']}\n",
      "{'여행객': [], '여행': [], '동반자정보': []}\n",
      "{'TRAVELER_ID': [], '방문지정보': []}\n",
      "./data/정보대 SW contest/279.국내 여행로그 데이터(서부권)/01.데이터/Training/02.라벨링데이터/TL_csv\n"
     ]
    }
   ],
   "source": [
    "data_path = \"./data/정보대 SW contest/279.국내 여행로그 데이터(서부권)/01.데이터/Training/02.라벨링데이터/TL_csv\"\n",
    "extender = '.csv'\n",
    "\n",
    "index_dict = {'TRAVEL_ID':['1']}\n",
    "# input_dict = {'여행객':[],'여행':[],'동반자정보':[],'방문지정보':[]}\n",
    "# 방문지 정보는 output에서 같이 처리\n",
    "input_dict = {'여행객':[],'여행':[],'동반자정보':[]}\n",
    "output_dict = {'TRAVELER_ID':[],'방문지정보':[]}\n",
    "print(index_dict)\n",
    "print(input_dict)\n",
    "print(output_dict)\n",
    "print(data_path)"
   ]
  },
  {
   "cell_type": "code",
   "execution_count": 1661,
   "metadata": {},
   "outputs": [
    {
     "name": "stdout",
     "output_type": "stream",
     "text": [
      "{'TRAVEL_ID': array(['c003867', 'c000679', 'c013674', ..., 'c008277', 'c012053',\n",
      "       'c007519'], dtype=object)}\n"
     ]
    }
   ],
   "source": [
    "tmp_df = pd.read_csv(path.join(data_path, input_data_csv_name_list[0]+extender))\n",
    "\n",
    "index_list = tmp_df['TRAVELER_ID'].values\n",
    "index_dict['TRAVEL_ID'] = index_list\n",
    "print(index_dict)\n",
    "# print(tmp_df['TRAVELER_ID'].values)"
   ]
  },
  {
   "cell_type": "code",
   "execution_count": 1662,
   "metadata": {},
   "outputs": [
    {
     "name": "stdout",
     "output_type": "stream",
     "text": [
      "Index(['INCOME', 'HOUSE_INCOME', 'TRAVEL_MOTIVE_1', 'TRAVEL_MOTIVE_2',\n",
      "       'TRAVEL_MOTIVE_3', 'TRAVEL_STYL_1', 'TRAVEL_STYL_2', 'TRAVEL_STYL_3',\n",
      "       'TRAVEL_STYL_4', 'TRAVEL_STYL_5', 'TRAVEL_STYL_6', 'TRAVEL_STYL_7',\n",
      "       'TRAVEL_STYL_8'],\n",
      "      dtype='object')\n",
      "           INCOME  HOUSE_INCOME  TRAVEL_MOTIVE_1  TRAVEL_MOTIVE_2  \\\n",
      "TRAVEL_ID                                                           \n",
      "c_c003867       4           NaN              1.0              7.0   \n",
      "c_c000679       4           NaN              5.0              3.0   \n",
      "c_c013674       4           6.0              1.0              8.0   \n",
      "c_c010826       1           1.0              7.0              2.0   \n",
      "c_c012020       3           7.0              3.0              1.0   \n",
      "\n",
      "           TRAVEL_MOTIVE_3  TRAVEL_STYL_1  TRAVEL_STYL_2  TRAVEL_STYL_3  \\\n",
      "TRAVEL_ID                                                                 \n",
      "c_c003867              2.0              2              1              2   \n",
      "c_c000679              6.0              4              4              4   \n",
      "c_c013674              3.0              1              1              5   \n",
      "c_c010826              4.0              5              3              3   \n",
      "c_c012020              7.0              1              7              4   \n",
      "\n",
      "           TRAVEL_STYL_4  TRAVEL_STYL_5  TRAVEL_STYL_6  TRAVEL_STYL_7  \\\n",
      "TRAVEL_ID                                                               \n",
      "c_c003867              3              5              5              2   \n",
      "c_c000679              4              4              4              7   \n",
      "c_c013674              1              1              1              1   \n",
      "c_c010826              6              6              6              5   \n",
      "c_c012020              7              4              6              1   \n",
      "\n",
      "           TRAVEL_STYL_8  \n",
      "TRAVEL_ID                 \n",
      "c_c003867              5  \n",
      "c_c000679              7  \n",
      "c_c013674              7  \n",
      "c_c010826              6  \n",
      "c_c012020              4  \n"
     ]
    }
   ],
   "source": [
    "get_list = ['TRAVELER_ID','INCOME', 'HOUSE_INCOME', 'TRAVEL_MOTIVE_1','TRAVEL_MOTIVE_2','TRAVEL_MOTIVE_3', \n",
    "            'TRAVEL_STYL_1', 'TRAVEL_STYL_2', 'TRAVEL_STYL_3', 'TRAVEL_STYL_4', 'TRAVEL_STYL_5', 'TRAVEL_STYL_6', 'TRAVEL_STYL_7', 'TRAVEL_STYL_8']\n",
    "\n",
    "tmp_df = pd.read_csv(path.join(data_path, input_data_csv_name_list[0]+extender))\n",
    "tmp_value = tmp_df['TRAVELER_ID'].values\n",
    "\n",
    "tmp_value = [ s[0]+\"_\"+s for s in tmp_value ]\n",
    "tmp_df['TRAVEL_ID'] = tmp_value\n",
    "tmp_df = tmp_df.drop('TRAVELER_ID', axis='columns')\n",
    "\n",
    "tmp_df = tmp_df.set_index(\"TRAVEL_ID\")\n",
    "\n",
    "input_dict['여행객'] = tmp_df[get_list[1:]]\n",
    "print(input_dict['여행객'].columns)\n",
    "print(input_dict['여행객'].head())\n"
   ]
  },
  {
   "cell_type": "code",
   "execution_count": 1663,
   "metadata": {},
   "outputs": [
    {
     "name": "stdout",
     "output_type": "stream",
     "text": [
      "TRAVEL_MISSION    0\n",
      "dtype: int64\n"
     ]
    }
   ],
   "source": [
    "get_list = ['TRAVEL_ID', 'TRAVEL_MISSION']\n",
    "\n",
    "tmp_df = pd.read_csv(path.join(data_path, input_data_csv_name_list[1]+extender))\n",
    "tmp_df = tmp_df.set_index(get_list[0])\n",
    "\n",
    "input_dict['여행'] = tmp_df[get_list[1:]]\n",
    "print_isna(input_dict['여행'])"
   ]
  },
  {
   "cell_type": "code",
   "execution_count": 1664,
   "metadata": {},
   "outputs": [
    {
     "name": "stdout",
     "output_type": "stream",
     "text": [
      "REL_CD               0\n",
      "COMPANION_AGE_GRP    0\n",
      "dtype: int64\n"
     ]
    }
   ],
   "source": [
    "get_list = ['TRAVEL_ID', 'REL_CD', 'COMPANION_AGE_GRP']\n",
    "\n",
    "tmp_df = pd.read_csv(path.join(data_path, input_data_csv_name_list[2]+extender))\n",
    "tmp_df = tmp_df.set_index(get_list[0])\n",
    "input_dict['동반자정보'] = tmp_df[get_list[1:]]\n",
    "print_isna(input_dict['동반자정보'])"
   ]
  },
  {
   "cell_type": "code",
   "execution_count": 1665,
   "metadata": {},
   "outputs": [
    {
     "data": {
      "text/plain": [
       "'output_dict의 방문지정보에서 같이 처리'"
      ]
     },
     "execution_count": 1665,
     "metadata": {},
     "output_type": "execute_result"
    }
   ],
   "source": [
    "# get_list = ['TRAVEL_ID', 'LODGING_TYPE_CD', 'VISIT_AREA_TYPE_CD']\n",
    "\n",
    "# tmp_df = pd.read_csv(path.join(data_path, input_data_csv_name_list[3]+extender))\n",
    "# tmp_df = tmp_df.set_index(get_list[0])\n",
    "# input_dict['방문지정보'] = tmp_df[get_list[1:]]\n",
    "# # print(tmp_df)\n",
    "\n",
    "\"\"\"output_dict의 방문지정보에서 같이 처리\"\"\""
   ]
  },
  {
   "cell_type": "code",
   "execution_count": 1666,
   "metadata": {},
   "outputs": [
    {
     "name": "stdout",
     "output_type": "stream",
     "text": [
      "TRAVELER_ID    0\n",
      "dtype: int64\n"
     ]
    }
   ],
   "source": [
    "get_list = ['TRAVEL_ID','TRAVELER_ID']\n",
    "\n",
    "tmp_df = pd.read_csv(path.join(data_path, output_data_csv_name_list[0]+extender))\n",
    "tmp_df = tmp_df.set_index(get_list[0])\n",
    "output_dict['TRAVELER_ID'] = tmp_df[get_list[1:]]\n",
    "# print(output_dict['TRAVELER_ID'])\n",
    "print_isna(output_dict['TRAVELER_ID'])"
   ]
  },
  {
   "cell_type": "code",
   "execution_count": 1667,
   "metadata": {},
   "outputs": [
    {
     "name": "stdout",
     "output_type": "stream",
     "text": [
      "LOTNO_ADDR             8381\n",
      "LODGING_TYPE_CD       31832\n",
      "VISIT_AREA_TYPE_CD        0\n",
      "REVISIT_YN             6823\n",
      "DGSTFN                 6839\n",
      "REVISIT_INTENTION      6839\n",
      "RCMDTN_INTENTION       6839\n",
      "dtype: int64\n"
     ]
    },
    {
     "name": "stderr",
     "output_type": "stream",
     "text": [
      "C:\\Users\\jinmi\\AppData\\Local\\Temp\\ipykernel_17848\\775514447.py:3: DtypeWarning: Columns (9) have mixed types. Specify dtype option on import or set low_memory=False.\n",
      "  tmp_df = pd.read_csv(path.join(data_path, output_data_csv_name_list[1]+extender))\n"
     ]
    }
   ],
   "source": [
    "get_list = ['TRAVEL_ID', 'LOTNO_ADDR','LODGING_TYPE_CD', 'VISIT_AREA_TYPE_CD','REVISIT_YN','DGSTFN', 'REVISIT_INTENTION', 'RCMDTN_INTENTION']\n",
    "\n",
    "tmp_df = pd.read_csv(path.join(data_path, output_data_csv_name_list[1]+extender))\n",
    "tmp_df = tmp_df.set_index(get_list[0])\n",
    "output_dict['방문지정보'] = tmp_df[get_list[1:]]\n",
    "print_isna(output_dict['방문지정보'])\n",
    "# print(tmp_df)"
   ]
  },
  {
   "cell_type": "code",
   "execution_count": 1668,
   "metadata": {},
   "outputs": [
    {
     "name": "stdout",
     "output_type": "stream",
     "text": [
      "여행객\n",
      "----------------------------------------\n",
      "Index(['c_c003867', 'c_c000679', 'c_c013674', 'c_c010826', 'c_c012020',\n",
      "       'c_c009357', 'c_c012760', 'c_c003756', 'c_c003541', 'c_c002909',\n",
      "       ...\n",
      "       'c_c013812', 'c_c012432', 'c_c009023', 'c_c010863', 'c_c001641',\n",
      "       'c_c005317', 'c_c000381', 'c_c008277', 'c_c012053', 'c_c007519'],\n",
      "      dtype='object', name='TRAVEL_ID', length=3200)\n",
      "--------------------------------------------------------------------------------\n",
      "여행\n",
      "----------------------------------------\n",
      "Index(['c_c011995', 'c_c008882', 'c_c003940', 'c_c012638', 'c_c011983',\n",
      "       'c_c012367', 'c_c013909', 'b_b006673', 'c_c012881', 'c_c002721',\n",
      "       ...\n",
      "       'c_c002389', 'c_c003692', 'c_c013085', 'c_c011684', 'c_c000183',\n",
      "       'c_c012049', 'c_c010871', 'c_c004312', 'c_c009302', 'c_c000104'],\n",
      "      dtype='object', name='TRAVEL_ID', length=3200)\n",
      "--------------------------------------------------------------------------------\n",
      "동반자정보\n",
      "----------------------------------------\n",
      "Index(['c_c000341', 'c_c000783', 'c_c009513', 'c_c000285', 'c_c003093',\n",
      "       'c_c011588', 'c_c000623', 'c_c014312', 'b_b014715', 'c_c004305',\n",
      "       ...\n",
      "       'c_c002384', 'c_c002327', 'c_c011412', 'c_c000635', 'c_c000813',\n",
      "       'c_c003367', 'c_c000159', 'c_c005489', 'c_c005691', 'c_c002690'],\n",
      "      dtype='object', name='TRAVEL_ID', length=4741)\n",
      "--------------------------------------------------------------------------------\n"
     ]
    }
   ],
   "source": [
    "for keys in input_dict:\n",
    "    print(keys)\n",
    "    # print(input_dict[keys].head())\n",
    "    tmp_df = input_dict[keys]\n",
    "    print(\"----------------------------------------\")\n",
    "    print(tmp_df.index)\n",
    "    # print(tmp_df.sort_index().head())\n",
    "    print(\"----------------------------------------\"*2)\n"
   ]
  },
  {
   "cell_type": "code",
   "execution_count": 1669,
   "metadata": {},
   "outputs": [
    {
     "name": "stdout",
     "output_type": "stream",
     "text": [
      "여행객\n",
      "----------------------------------------\n",
      "Index(['INCOME', 'HOUSE_INCOME', 'TRAVEL_MOTIVE_1', 'TRAVEL_MOTIVE_2',\n",
      "       'TRAVEL_MOTIVE_3', 'TRAVEL_STYL_1', 'TRAVEL_STYL_2', 'TRAVEL_STYL_3',\n",
      "       'TRAVEL_STYL_4', 'TRAVEL_STYL_5', 'TRAVEL_STYL_6', 'TRAVEL_STYL_7',\n",
      "       'TRAVEL_STYL_8'],\n",
      "      dtype='object')\n",
      "--------------------------------------------------------------------------------\n",
      "여행\n",
      "----------------------------------------\n",
      "Index(['TRAVEL_MISSION'], dtype='object')\n",
      "--------------------------------------------------------------------------------\n",
      "동반자정보\n",
      "----------------------------------------\n",
      "Index(['REL_CD', 'COMPANION_AGE_GRP'], dtype='object')\n",
      "--------------------------------------------------------------------------------\n",
      "--------------------------------------------------------------------------------\n",
      "--------------------------------------------------------------------------------\n",
      "--------------------------------------------------------------------------------\n",
      "TRAVELER_ID\n",
      "----------------------------------------\n",
      "Index(['TRAVELER_ID'], dtype='object')\n",
      "--------------------------------------------------------------------------------\n",
      "방문지정보\n",
      "----------------------------------------\n",
      "Index(['LOTNO_ADDR', 'LODGING_TYPE_CD', 'VISIT_AREA_TYPE_CD', 'REVISIT_YN',\n",
      "       'DGSTFN', 'REVISIT_INTENTION', 'RCMDTN_INTENTION'],\n",
      "      dtype='object')\n",
      "--------------------------------------------------------------------------------\n"
     ]
    }
   ],
   "source": [
    "for keys in input_dict:\n",
    "    print(keys)\n",
    "    # print(input_dict[keys].head())\n",
    "    tmp_df = input_dict[keys]\n",
    "    print(\"----------------------------------------\")\n",
    "    print(tmp_df.columns)\n",
    "    # print(tmp_df.sort_index().head())\n",
    "    print(\"----------------------------------------\"*2)\n",
    "print(\"----------------------------------------\"*2)\n",
    "print(\"----------------------------------------\"*2)\n",
    "print(\"----------------------------------------\"*2)\n",
    "for keys in output_dict:\n",
    "    print(keys)\n",
    "    # print(input_dict[keys].head())\n",
    "    tmp_df = output_dict[keys]\n",
    "    print(\"----------------------------------------\")\n",
    "    print(tmp_df.columns)\n",
    "    # print(tmp_df.sort_index().head())\n",
    "    print(\"----------------------------------------\"*2)\n"
   ]
  },
  {
   "cell_type": "markdown",
   "metadata": {},
   "source": [
    "# 방분지 정보 정제\n",
    "\n",
    "> 아래는 해당 번호들 제외하고 걸러야한다\n",
    "\n",
    "VIS - VISIT_AREA_TYPE_CD 사용할 항목들\n",
    "\n",
    "            1:자연관광지\n",
    "            2:역사/유적/종교 시설\n",
    "            3:문화 시설\n",
    "            4:상업지구\n",
    "            5:레저\n",
    "            6:테마시설\n",
    "            7:산책로, 둘레길 등\n",
    "            8:지역 축제/행사\n",
    "            13: 체험 활동 관광지\n",
    "\n",
    "            \n",
    "\n",
    "\n",
    "> 아래는 계산해서 SCORE로 추가\n",
    "\n",
    "(DGSTFN + REVISIT_INTENTOIN + RCMDTN_INTENTION) / 3 =======>>>>>>>>> 실제 출력\n",
    "    \n",
    "    모두 tn_visit_area_info_방문지정보_C 에 존재\n",
    "\n",
    "    '()' 안의 더해지는 값들은 각 값의 범위가 1~5\n",
    "\n",
    "\n",
    "> 최종 11352개의 방문지 존재 해당 정보를 바탕으로 데이터 수립 \n",
    "\n",
    "    TRAVERL_ID에 해당 하는 정보들을 추가 적으로 붙여넣어 준다.\n",
    "\n"
   ]
  },
  {
   "cell_type": "code",
   "execution_count": 1670,
   "metadata": {},
   "outputs": [
    {
     "name": "stdout",
     "output_type": "stream",
     "text": [
      "                      LOTNO_ADDR  LODGING_TYPE_CD  VISIT_AREA_TYPE_CD  \\\n",
      "TRAVEL_ID                                                               \n",
      "c_c005733  충북 영동군 영동읍 계산리 653-12              NaN                  11   \n",
      "c_c000326         전남 여수시 수정동 772              NaN                  11   \n",
      "c_c003528     충북 진천군 진천읍 읍내리 165              NaN                   8   \n",
      "c_c001050    전북 전주시 완산구 교동 산 1-3              NaN                   2   \n",
      "c_c001776  충남 홍성군 서부면 남당리 767-18              NaN                   1   \n",
      "\n",
      "          REVISIT_YN  DGSTFN  REVISIT_INTENTION  RCMDTN_INTENTION  \n",
      "TRAVEL_ID                                                          \n",
      "c_c005733          N     4.0                3.0               3.0  \n",
      "c_c000326          N     5.0                5.0               5.0  \n",
      "c_c003528          Y     3.0                4.0               4.0  \n",
      "c_c001050          N     5.0                5.0               4.0  \n",
      "c_c001776          N     4.0                4.0               4.0  \n",
      "[False False False ...  True  True  True]\n"
     ]
    },
    {
     "name": "stderr",
     "output_type": "stream",
     "text": [
      "C:\\Users\\jinmi\\AppData\\Local\\Temp\\ipykernel_17848\\4273098675.py:5: SettingWithCopyWarning: \n",
      "A value is trying to be set on a copy of a slice from a DataFrame.\n",
      "Try using .loc[row_indexer,col_indexer] = value instead\n",
      "\n",
      "See the caveats in the documentation: https://pandas.pydata.org/pandas-docs/stable/user_guide/indexing.html#returning-a-view-versus-a-copy\n",
      "  new_df.loc[:,'SCORE'] = ((new_df['DGSTFN'] + new_df['REVISIT_INTENTION'] + new_df['RCMDTN_INTENTION']) / 3.0).round(4)\n"
     ]
    }
   ],
   "source": [
    "tmp_df = output_dict['방문지정보']\n",
    "print(tmp_df.head())\n",
    "\n",
    "new_df = tmp_df[tmp_df['VISIT_AREA_TYPE_CD'].isin([1,2,3,4,5,6,7,8,13])]\n",
    "new_df.loc[:,'SCORE'] = ((new_df['DGSTFN'] + new_df['REVISIT_INTENTION'] + new_df['RCMDTN_INTENTION']) / 3.0).round(4)\n",
    "# print(new_df)\n",
    "output_dict['방문지정보'] = new_df\n",
    "# print(output_dict['방문지정보'])\n",
    "\n",
    "duplicated_index = new_df.index.duplicated()\n",
    "print(duplicated_index)"
   ]
  },
  {
   "cell_type": "code",
   "execution_count": 1671,
   "metadata": {},
   "outputs": [],
   "source": [
    "# tmp_df = input_dict['방문지정보']\n",
    "# print(tmp_df.head())\n",
    "\n",
    "# new_df = tmp_df[tmp_df['VISIT_AREA_TYPE_CD'].isin([1,2,3,4,5,6,7,8,13])]\n",
    "# # print(new_df)\n",
    "# new_df = new_df.drop(\"VISIT_AREA_TYPE_CD\", axis='columns')\n",
    "# input_dict['방문지정보'] = new_df\n",
    "# # print(output_dict['방문지정보'])\n",
    "\n",
    "# duplicated_index = new_df.index.duplicated()\n",
    "# print(duplicated_index)"
   ]
  },
  {
   "cell_type": "markdown",
   "metadata": {},
   "source": [
    "# 데이터 이어 붙이기\n",
    "\n",
    "나머지 정보들을 output_dict['방문자정보']에 적절한 client_code에 이어 붙여 준다.\n",
    "\n",
    "\n",
    "여행객\n",
    "----------------------------------------\n",
    "Index(['INCOME', 'HOUSE_INCOME', 'TRAVEL_MOTIVE_1', 'TRAVEL_MOTIVE_2',\n",
    "       'TRAVEL_MOTIVE_3', 'TRAVEL_STYL_1', 'TRAVEL_STYL_2', 'TRAVEL_STYL_3',\n",
    "       'TRAVEL_STYL_4', 'TRAVEL_STYL_5', 'TRAVEL_STYL_6', 'TRAVEL_STYL_7',\n",
    "       'TRAVEL_STYL_8'],\n",
    "      dtype='object')\n",
    "--------------------------------------------------------------------------------\n",
    "여행\n",
    "----------------------------------------\n",
    "Index(['TRAVEL_MISSION'], dtype='object')\n",
    "--------------------------------------------------------------------------------\n",
    "동반자정보\n",
    "----------------------------------------\n",
    "Index(['REL_CD', 'COMPANION_AGE_GRP'], dtype='object')\n",
    "--------------------------------------------------------------------------------\n",
    "방문지정보\n",
    "----------------------------------------\n",
    "Index(['LODGING_TYPE_CD'], dtype='object')\n",
    "--------------------------------------------------------------------------------\n",
    "--------------------------------------------------------------------------------\n",
    "--------------------------------------------------------------------------------\n",
    "--------------------------------------------------------------------------------\n",
    "TRAVELER_ID\n",
    "----------------------------------------\n",
    "Index(['TRAVELER_ID'], dtype='object')\n",
    "--------------------------------------------------------------------------------\n",
    "방문지정보\n",
    "----------------------------------------\n",
    "Index(['LOTNO_ADDR', 'VISIT_AREA_TYPE_CD', 'REVISIT_YN', 'DGSTFN',\n",
    "       'REVISIT_INTENTION', 'RCMDTN_INTENTION'],\n",
    "      dtype='object')\n",
    "--------------------------------------------------------------------------------"
   ]
  },
  {
   "cell_type": "code",
   "execution_count": 1672,
   "metadata": {},
   "outputs": [],
   "source": [
    "output_dict['최종'] = output_dict['방문지정보'].copy()"
   ]
  },
  {
   "cell_type": "code",
   "execution_count": 1673,
   "metadata": {},
   "outputs": [
    {
     "name": "stdout",
     "output_type": "stream",
     "text": [
      "LOTNO_ADDR\n",
      "885\n",
      "=================\n",
      "LODGING_TYPE_CD\n",
      "11295\n",
      "=================\n",
      "VISIT_AREA_TYPE_CD\n",
      "0\n",
      "=================\n",
      "REVISIT_YN\n",
      "17\n",
      "=================\n",
      "DGSTFN\n",
      "18\n",
      "=================\n",
      "REVISIT_INTENTION\n",
      "18\n",
      "=================\n",
      "RCMDTN_INTENTION\n",
      "18\n",
      "=================\n",
      "SCORE\n",
      "18\n",
      "=================\n"
     ]
    }
   ],
   "source": [
    "output_dict['최종']\n",
    "tmp_df = output_dict['최종']\n",
    "for col_name in output_dict['최종'].columns:\n",
    "    print(col_name)\n",
    "    print(pd.isna(tmp_df[col_name]).sum())\n",
    "    print(\"=================\")"
   ]
  },
  {
   "cell_type": "code",
   "execution_count": 1674,
   "metadata": {},
   "outputs": [
    {
     "name": "stdout",
     "output_type": "stream",
     "text": [
      "(4741, 2)\n",
      "REL_CD               0\n",
      "COMPANION_AGE_GRP    0\n",
      "dtype: int64\n",
      "                         LOTNO_ADDR  LODGING_TYPE_CD  VISIT_AREA_TYPE_CD  \\\n",
      "TRAVEL_ID                                                                  \n",
      "c_c003528        충북 진천군 진천읍 읍내리 165              NaN                   8   \n",
      "c_c003528        충북 진천군 진천읍 읍내리 165              NaN                   8   \n",
      "c_c003528        충북 진천군 진천읍 읍내리 165              NaN                   8   \n",
      "c_c003528                       NaN              NaN                   1   \n",
      "c_c003528                       NaN              NaN                   1   \n",
      "...                             ...              ...                 ...   \n",
      "c_c006215                       NaN              NaN                   1   \n",
      "c_c006215                       NaN              NaN                   1   \n",
      "c_c008905  충남 천안시 동남구 목천읍 남화리 230-1              NaN                   2   \n",
      "c_c004061         전남 구례군 광의면 방광리 70              NaN                   2   \n",
      "c_c005594          전남 구례군 구례읍 원방리 1              NaN                   7   \n",
      "\n",
      "          REVISIT_YN  DGSTFN  REVISIT_INTENTION  RCMDTN_INTENTION   SCORE  \\\n",
      "TRAVEL_ID                                                                   \n",
      "c_c003528          Y     3.0                4.0               4.0  3.6667   \n",
      "c_c003528          Y     3.0                4.0               4.0  3.6667   \n",
      "c_c003528          Y     3.0                4.0               4.0  3.6667   \n",
      "c_c003528          Y     5.0                4.0               4.0  4.3333   \n",
      "c_c003528          Y     5.0                4.0               4.0  4.3333   \n",
      "...              ...     ...                ...               ...     ...   \n",
      "c_c006215          N     4.0                3.0               4.0  3.6667   \n",
      "c_c006215          N     4.0                3.0               4.0  3.6667   \n",
      "c_c008905          N     5.0                3.0               4.0  4.0000   \n",
      "c_c004061          N     3.0                3.0               3.0  3.0000   \n",
      "c_c005594          N     4.0                4.0               4.0  4.0000   \n",
      "\n",
      "           REL_CD  COMPANION_AGE_GRP  \n",
      "TRAVEL_ID                             \n",
      "c_c003528       5                  3  \n",
      "c_c003528       1                  6  \n",
      "c_c003528       2                  3  \n",
      "c_c003528       5                  3  \n",
      "c_c003528       1                  6  \n",
      "...           ...                ...  \n",
      "c_c006215       2                  1  \n",
      "c_c006215       2                  1  \n",
      "c_c008905       8                  5  \n",
      "c_c004061       5                  4  \n",
      "c_c005594       1                  7  \n",
      "\n",
      "[13078 rows x 10 columns]\n"
     ]
    }
   ],
   "source": [
    "tmp_df = output_dict['최종']\n",
    "# tmp_df = tmp_df.merge(input_dict['동반자정보'], left_index=True, right_index=True)\n",
    "tmp_df = tmp_df.join(input_dict['동반자정보'], how='inner', on=['TRAVEL_ID'])\n",
    "# tmp_df.loc['a_a000202', 'COMPANION_AGE_GRP'] = -1\n",
    "# print(tmp_df.loc['a_a000202'])\n",
    "print(input_dict['동반자정보'].shape)\n",
    "print(pd.isna(input_dict['동반자정보']).sum())\n",
    "print(tmp_df)"
   ]
  },
  {
   "cell_type": "code",
   "execution_count": 1675,
   "metadata": {},
   "outputs": [
    {
     "name": "stdout",
     "output_type": "stream",
     "text": [
      "여행객\n",
      "(11352, 8)\n",
      "(11352, 21)\n",
      "Index(['LOTNO_ADDR', 'LODGING_TYPE_CD', 'VISIT_AREA_TYPE_CD', 'REVISIT_YN',\n",
      "       'DGSTFN', 'REVISIT_INTENTION', 'RCMDTN_INTENTION', 'SCORE', 'INCOME',\n",
      "       'HOUSE_INCOME', 'TRAVEL_MOTIVE_1', 'TRAVEL_MOTIVE_2', 'TRAVEL_MOTIVE_3',\n",
      "       'TRAVEL_STYL_1', 'TRAVEL_STYL_2', 'TRAVEL_STYL_3', 'TRAVEL_STYL_4',\n",
      "       'TRAVEL_STYL_5', 'TRAVEL_STYL_6', 'TRAVEL_STYL_7', 'TRAVEL_STYL_8'],\n",
      "      dtype='object')\n",
      "여행\n",
      "(11352, 21)\n",
      "(11352, 22)\n",
      "Index(['LOTNO_ADDR', 'LODGING_TYPE_CD', 'VISIT_AREA_TYPE_CD', 'REVISIT_YN',\n",
      "       'DGSTFN', 'REVISIT_INTENTION', 'RCMDTN_INTENTION', 'SCORE', 'INCOME',\n",
      "       'HOUSE_INCOME', 'TRAVEL_MOTIVE_1', 'TRAVEL_MOTIVE_2', 'TRAVEL_MOTIVE_3',\n",
      "       'TRAVEL_STYL_1', 'TRAVEL_STYL_2', 'TRAVEL_STYL_3', 'TRAVEL_STYL_4',\n",
      "       'TRAVEL_STYL_5', 'TRAVEL_STYL_6', 'TRAVEL_STYL_7', 'TRAVEL_STYL_8',\n",
      "       'TRAVEL_MISSION'],\n",
      "      dtype='object')\n"
     ]
    }
   ],
   "source": [
    "for keys in input_dict:\n",
    "    tmp_df = input_dict[keys]\n",
    "    tmp_col = tmp_df.columns\n",
    "    # for col_name in tmp_col:\n",
    "    #     tmp_df[col_name]\n",
    "    \n",
    "    if keys==\"동반자정보\":\n",
    "        break\n",
    "    \n",
    "    print(keys)\n",
    "    print(output_dict['최종'].shape)\n",
    "    print(output_dict['최종'].join(tmp_df).shape)\n",
    "    output_dict['최종'] = output_dict['최종'].join(tmp_df)\n",
    "    print(output_dict['최종'].columns)\n",
    "    \n",
    "        "
   ]
  },
  {
   "cell_type": "code",
   "execution_count": 1676,
   "metadata": {},
   "outputs": [
    {
     "name": "stdout",
     "output_type": "stream",
     "text": [
      "LOTNO_ADDR\n",
      "885\n",
      "=================\n",
      "LODGING_TYPE_CD\n",
      "11295\n",
      "=================\n",
      "VISIT_AREA_TYPE_CD\n",
      "0\n",
      "=================\n",
      "REVISIT_YN\n",
      "17\n",
      "=================\n",
      "DGSTFN\n",
      "18\n",
      "=================\n",
      "REVISIT_INTENTION\n",
      "18\n",
      "=================\n",
      "RCMDTN_INTENTION\n",
      "18\n",
      "=================\n",
      "SCORE\n",
      "18\n",
      "=================\n",
      "INCOME\n",
      "2345\n",
      "=================\n",
      "HOUSE_INCOME\n",
      "4581\n",
      "=================\n",
      "TRAVEL_MOTIVE_1\n",
      "2348\n",
      "=================\n",
      "TRAVEL_MOTIVE_2\n",
      "2709\n",
      "=================\n",
      "TRAVEL_MOTIVE_3\n",
      "3128\n",
      "=================\n",
      "TRAVEL_STYL_1\n",
      "2345\n",
      "=================\n",
      "TRAVEL_STYL_2\n",
      "2345\n",
      "=================\n",
      "TRAVEL_STYL_3\n",
      "2345\n",
      "=================\n",
      "TRAVEL_STYL_4\n",
      "2345\n",
      "=================\n",
      "TRAVEL_STYL_5\n",
      "2345\n",
      "=================\n",
      "TRAVEL_STYL_6\n",
      "2345\n",
      "=================\n",
      "TRAVEL_STYL_7\n",
      "2345\n",
      "=================\n",
      "TRAVEL_STYL_8\n",
      "2345\n",
      "=================\n",
      "TRAVEL_MISSION\n",
      "2322\n",
      "=================\n"
     ]
    }
   ],
   "source": [
    "tmp_df = output_dict['최종']\n",
    "for col_name in output_dict['최종'].columns:\n",
    "    print(col_name)\n",
    "    print(pd.isna(tmp_df[col_name]).sum())\n",
    "    print(\"=================\")\n",
    "    \n",
    "\n",
    "tmp_df.to_csv(\"./data/tmp_dataset.csv\")"
   ]
  },
  {
   "cell_type": "markdown",
   "metadata": {},
   "source": [
    "# 데이터 보정\n",
    "\n",
    "> LOTNO_ADDR\n",
    "\n",
    "    885\n",
    "\n",
    "    필수로 존재해야 하는 값이다.\n",
    "    없으면 해당 행은 모두 제거\n",
    "\n",
    "=================\n",
    "> LODGING_TYPE_CD\n",
    "\n",
    "    11295\n",
    "\n",
    "    숙소를 쓰는 경우가 흔하지 않은 것인지  na가 많다\n",
    "    나머지는 모두 0으로 채운다\n",
    "\n",
    "=================\n",
    "> VISIT_AREA_TYPE_CD\n",
    "\n",
    "    0\n",
    "\n",
    "\n",
    "=================\n",
    "> REVISIT_YN\n",
    "\n",
    "    17\n",
    "    재방문 할 것인지 여부\n",
    "    yes - 1\n",
    "    no - 0으로 변경 후 \n",
    "    max 값으로 나머지 보정\n",
    "\n",
    "=================\n",
    "> DGSTFN\n",
    "\n",
    "    18\n",
    "    만족도 점수\n",
    "\n",
    "    필수 값이다\n",
    "    평균 값으로 대체\n",
    "\n",
    "=================\n",
    "> REVISIT_INTENTION\n",
    "    \n",
    "    18\n",
    "    재방문의향\n",
    "\n",
    "    필수 값이다\n",
    "    평균 값으로 대체\n",
    "\n",
    "\n",
    "=================\n",
    "> RCMDTN_INTENTION\n",
    "\n",
    "    18\n",
    "    추천의향이다\n",
    "\n",
    "    필수 값이다\n",
    "    평균 값으로 대체\n",
    "\n",
    "=================\n",
    "> SCORE\n",
    "\n",
    "    18\n",
    "    위의 값으로 계산된 점수 이다\n",
    "\n",
    "    필수 값이다\n",
    "    평균 값으로 대체\n",
    "\n",
    "=================\n",
    "> INCOME\n",
    "    \n",
    "    2345\n",
    "    개인 소득 수준이다\n",
    "\n",
    "    평균값으로 대체\n",
    "\n",
    "\n",
    "=================\n",
    "\n",
    "> HOUSE_INCOME\n",
    "    \n",
    "    4581\n",
    "\n",
    "    사용x 날림\n",
    "\n",
    "=================\n",
    "> TRAVEL_MOTIVE_1\n",
    "\n",
    "    2348\n",
    "\n",
    "    \n",
    "\n",
    "# 동기값들은 모두 0으로 보정\n",
    "# 귀찮아서 적지 않았거나 다른 이유로든 적지 않았다면 해당 부분도 대상의 성격 중 일부 라고 할 수 있음\n",
    "# default로 10:기타로 설정\n",
    "\n",
    "=================\n",
    "> TRAVEL_MOTIVE_2\n",
    "    \n",
    "    2709\n",
    "=================\n",
    "> TRAVEL_MOTIVE_3\n",
    "    \n",
    "    3128\n",
    "=================\n",
    "> TRAVEL_STYL_1\n",
    "   \n",
    "    2345\n",
    "\n",
    "# 여기서부터 1~8까지의 값중 MAX로 하여 새로운 열을 생성\n",
    "# default로 4:중립 사용\n",
    "\n",
    "=================\n",
    "> TRAVEL_STYL_2\n",
    "    \n",
    "    2345\n",
    "=================\n",
    "> TRAVEL_STYL_3\n",
    "    \n",
    "    2345\n",
    "=================\n",
    "> TRAVEL_STYL_4\n",
    "    \n",
    "    2345\n",
    "=================\n",
    "> TRAVEL_STYL_5\n",
    "    \n",
    "    2345\n",
    "=================\n",
    "> TRAVEL_STYL_6\n",
    "    \n",
    "    2345\n",
    "=================\n",
    "> TRAVEL_STYL_7\n",
    "    \n",
    "    2345\n",
    "=================\n",
    "> TRAVEL_STYL_8\n",
    "    \n",
    "    2345\n",
    "=================\n",
    "> TRAVEL_MISSION\n",
    "    \n",
    "    2322\n",
    "    \n",
    "# 해당 값은 0으로 초기화 적당한 default 값이 존재하지 않고\n",
    "================="
   ]
  },
  {
   "cell_type": "code",
   "execution_count": 1677,
   "metadata": {},
   "outputs": [
    {
     "name": "stdout",
     "output_type": "stream",
     "text": [
      "RangeIndex(start=0, stop=11352, step=1)\n"
     ]
    }
   ],
   "source": [
    "final_df_bk = tmp_df.copy().reset_index()\n",
    "final_df = final_df_bk.copy()\n",
    "print(final_df.index)"
   ]
  },
  {
   "cell_type": "code",
   "execution_count": 1678,
   "metadata": {},
   "outputs": [
    {
     "name": "stdout",
     "output_type": "stream",
     "text": [
      "(11352, 23)\n",
      "885\n",
      "(10467, 23)\n",
      "0\n"
     ]
    }
   ],
   "source": [
    "target_col = \"LOTNO_ADDR\"\n",
    "\n",
    "print(final_df.shape)\n",
    "print_isna(final_df[target_col])\n",
    "tmp_df = final_df\n",
    "\n",
    "tmp_df = tmp_df.loc[~pd.isna(tmp_df.loc[:,target_col])]\n",
    "\n",
    "\n",
    "\n",
    "print(tmp_df.shape)\n",
    "print_isna(tmp_df[target_col])\n"
   ]
  },
  {
   "cell_type": "code",
   "execution_count": 1679,
   "metadata": {},
   "outputs": [],
   "source": [
    "final_df = tmp_df"
   ]
  },
  {
   "cell_type": "code",
   "execution_count": 1680,
   "metadata": {},
   "outputs": [
    {
     "name": "stdout",
     "output_type": "stream",
     "text": [
      "(10467, 23)\n",
      "10421\n",
      "(10467, 23)\n",
      "0\n"
     ]
    }
   ],
   "source": [
    "target_col = \"LODGING_TYPE_CD\"\n",
    "\n",
    "print(final_df.shape)\n",
    "print_isna(final_df[target_col])\n",
    "\n",
    "tmp_df = final_df\n",
    "tmp_df[target_col] = tmp_df[target_col].fillna(0)\n",
    "\n",
    "print(tmp_df.shape)\n",
    "print_isna(tmp_df[target_col])\n"
   ]
  },
  {
   "cell_type": "code",
   "execution_count": 1681,
   "metadata": {},
   "outputs": [],
   "source": [
    "final_df = tmp_df"
   ]
  },
  {
   "cell_type": "code",
   "execution_count": 1682,
   "metadata": {},
   "outputs": [
    {
     "name": "stdout",
     "output_type": "stream",
     "text": [
      "(10467, 23)\n",
      "12\n",
      "0        1\n",
      "1        0\n",
      "2        1\n",
      "3        0\n",
      "4        1\n",
      "        ..\n",
      "11347    1\n",
      "11348    0\n",
      "11349    1\n",
      "11350    0\n",
      "11351    0\n",
      "Name: REVISIT_YN, Length: 10467, dtype: int64\n",
      "10467\n",
      "(10467, 23)\n",
      "0\n"
     ]
    }
   ],
   "source": [
    "target_col = \"REVISIT_YN\"\n",
    "\n",
    "print(final_df.shape)\n",
    "print_isna(final_df[target_col])\n",
    "\n",
    "tmp_df = final_df\n",
    "\n",
    "tmp_df.loc[tmp_df[target_col]==\"Y\", target_col] = 1\n",
    "tmp_df.loc[tmp_df[target_col]==\"N\", target_col] = 0\n",
    "\n",
    "tmp_df[target_col] = tmp_df[target_col].fillna(tmp_df[target_col].max())\n",
    "\n",
    "print(tmp_df[target_col])\n",
    "\n",
    "o = ((tmp_df[target_col]==1).sum())\n",
    "z = ((tmp_df[target_col]==0).sum())\n",
    "\n",
    "print(o+z)\n",
    "\n",
    "print(tmp_df.shape)\n",
    "print_isna(tmp_df[target_col])"
   ]
  },
  {
   "cell_type": "code",
   "execution_count": 1683,
   "metadata": {},
   "outputs": [],
   "source": [
    "final_df = tmp_df"
   ]
  },
  {
   "cell_type": "code",
   "execution_count": 1684,
   "metadata": {},
   "outputs": [
    {
     "name": "stdout",
     "output_type": "stream",
     "text": [
      "(10467, 23)\n",
      "13\n",
      "0    4.0\n",
      "1    4.0\n",
      "2    2.0\n",
      "3    4.0\n",
      "4    4.0\n",
      "Name: DGSTFN, dtype: float64\n",
      "(10467, 23)\n",
      "0\n"
     ]
    }
   ],
   "source": [
    "target_col = \"DGSTFN\"\n",
    "\n",
    "print(final_df.shape)\n",
    "print_isna(final_df[target_col])\n",
    "\n",
    "tmp_df = final_df\n",
    "\n",
    "tmp_df[target_col] = tmp_df[target_col].fillna(tmp_df[target_col].mean())\n",
    "\n",
    "print(tmp_df[target_col].head())\n",
    "\n",
    "print(tmp_df.shape)\n",
    "print_isna(tmp_df[target_col])"
   ]
  },
  {
   "cell_type": "code",
   "execution_count": 1685,
   "metadata": {},
   "outputs": [],
   "source": [
    "final_df = tmp_df"
   ]
  },
  {
   "cell_type": "code",
   "execution_count": 1686,
   "metadata": {},
   "outputs": [
    {
     "name": "stdout",
     "output_type": "stream",
     "text": [
      "(10467, 23)\n",
      "13\n",
      "0    4.0\n",
      "1    4.0\n",
      "2    3.0\n",
      "3    4.0\n",
      "4    4.0\n",
      "Name: REVISIT_INTENTION, dtype: float64\n",
      "(10467, 23)\n",
      "0\n"
     ]
    }
   ],
   "source": [
    "target_col = \"REVISIT_INTENTION\"\n",
    "\n",
    "print(final_df.shape)\n",
    "print_isna(final_df[target_col])\n",
    "\n",
    "tmp_df = final_df\n",
    "\n",
    "tmp_df[target_col] = tmp_df[target_col].fillna(tmp_df[target_col].mean())\n",
    "\n",
    "print(tmp_df[target_col].head())\n",
    "\n",
    "print(tmp_df.shape)\n",
    "print_isna(tmp_df[target_col])"
   ]
  },
  {
   "cell_type": "code",
   "execution_count": 1687,
   "metadata": {},
   "outputs": [],
   "source": [
    "final_df = tmp_df"
   ]
  },
  {
   "cell_type": "code",
   "execution_count": 1688,
   "metadata": {},
   "outputs": [
    {
     "name": "stdout",
     "output_type": "stream",
     "text": [
      "(10467, 23)\n",
      "13\n",
      "0    4.0\n",
      "1    4.0\n",
      "2    3.0\n",
      "3    4.0\n",
      "4    3.0\n",
      "Name: RCMDTN_INTENTION, dtype: float64\n",
      "(10467, 23)\n",
      "0\n"
     ]
    }
   ],
   "source": [
    "target_col = \"RCMDTN_INTENTION\"\n",
    "\n",
    "print(final_df.shape)\n",
    "print_isna(final_df[target_col])\n",
    "\n",
    "tmp_df = final_df\n",
    "\n",
    "tmp_df[target_col] = tmp_df[target_col].fillna(tmp_df[target_col].mean())\n",
    "\n",
    "print(tmp_df[target_col].head())\n",
    "\n",
    "print(tmp_df.shape)\n",
    "print_isna(tmp_df[target_col])"
   ]
  },
  {
   "cell_type": "code",
   "execution_count": 1689,
   "metadata": {},
   "outputs": [],
   "source": [
    "final_df = tmp_df"
   ]
  },
  {
   "cell_type": "code",
   "execution_count": 1690,
   "metadata": {},
   "outputs": [
    {
     "name": "stdout",
     "output_type": "stream",
     "text": [
      "(10467, 23)\n",
      "13\n",
      "0    4.0000\n",
      "1    4.0000\n",
      "2    2.6667\n",
      "3    4.0000\n",
      "4    3.6667\n",
      "Name: SCORE, dtype: float64\n",
      "(10467, 23)\n",
      "0\n"
     ]
    }
   ],
   "source": [
    "target_col = \"SCORE\"\n",
    "\n",
    "print(final_df.shape)\n",
    "print_isna(final_df[target_col])\n",
    "\n",
    "tmp_df = final_df\n",
    "\n",
    "tmp_df[target_col] = tmp_df[target_col].fillna(tmp_df[target_col].mean())\n",
    "\n",
    "print(tmp_df[target_col].head())\n",
    "\n",
    "print(tmp_df.shape)\n",
    "print_isna(tmp_df[target_col])"
   ]
  },
  {
   "cell_type": "code",
   "execution_count": 1691,
   "metadata": {},
   "outputs": [],
   "source": [
    "final_df = tmp_df"
   ]
  },
  {
   "cell_type": "code",
   "execution_count": 1692,
   "metadata": {},
   "outputs": [
    {
     "name": "stdout",
     "output_type": "stream",
     "text": [
      "(10467, 23)\n",
      "2132\n",
      "0     4.00228\n",
      "1     4.00228\n",
      "2     4.00228\n",
      "3    12.00000\n",
      "4    10.00000\n",
      "Name: INCOME, dtype: float64\n",
      "(10467, 23)\n",
      "0\n"
     ]
    }
   ],
   "source": [
    "target_col = \"INCOME\"\n",
    "\n",
    "print(final_df.shape)\n",
    "print_isna(final_df[target_col])\n",
    "\n",
    "tmp_df = final_df\n",
    "\n",
    "tmp_df[target_col] = tmp_df[target_col].fillna(tmp_df[target_col].mean())\n",
    "\n",
    "print(tmp_df[target_col].head())\n",
    "\n",
    "print(tmp_df.shape)\n",
    "print_isna(tmp_df[target_col])"
   ]
  },
  {
   "cell_type": "code",
   "execution_count": 1693,
   "metadata": {},
   "outputs": [],
   "source": [
    "final_df = tmp_df"
   ]
  },
  {
   "cell_type": "code",
   "execution_count": 1694,
   "metadata": {},
   "outputs": [
    {
     "name": "stdout",
     "output_type": "stream",
     "text": [
      "(10467, 23)\n",
      "4202\n",
      "(10467, 22)\n"
     ]
    }
   ],
   "source": [
    "target_col = \"HOUSE_INCOME\"\n",
    "\n",
    "print(final_df.shape)\n",
    "print_isna(final_df[target_col])\n",
    "\n",
    "tmp_df = final_df\n",
    "tmp_df = tmp_df.drop(axis=1, columns=target_col)\n",
    "\n",
    "print(tmp_df.shape)"
   ]
  },
  {
   "cell_type": "code",
   "execution_count": 1695,
   "metadata": {},
   "outputs": [],
   "source": [
    "final_df = tmp_df"
   ]
  },
  {
   "cell_type": "code",
   "execution_count": 1696,
   "metadata": {},
   "outputs": [
    {
     "name": "stdout",
     "output_type": "stream",
     "text": [
      "(10467, 22)\n",
      "0    10.0\n",
      "1    10.0\n",
      "2    10.0\n",
      "3     3.0\n",
      "4     9.0\n",
      "Name: TRAVEL_MOTIVE_1, dtype: float64\n",
      "2260\n",
      "(10467, 22)\n",
      "0\n",
      "0    10.0\n",
      "1    10.0\n",
      "2    10.0\n",
      "3     1.0\n",
      "4     1.0\n",
      "Name: TRAVEL_MOTIVE_2, dtype: float64\n",
      "2509\n",
      "(10467, 22)\n",
      "0\n",
      "0    10.0\n",
      "1    10.0\n",
      "2    10.0\n",
      "3    10.0\n",
      "4     2.0\n",
      "Name: TRAVEL_MOTIVE_3, dtype: float64\n",
      "3097\n",
      "(10467, 22)\n",
      "0\n"
     ]
    }
   ],
   "source": [
    "print(final_df.shape)\n",
    "# print_isna(final_df[target_col])\n",
    "\n",
    "tmp_df = final_df\n",
    "\n",
    "for i in range(1,4):\n",
    "    target_col = \"TRAVEL_MOTIVE_\" + str(i)\n",
    "\n",
    "    tmp_df[target_col] = tmp_df[target_col].fillna(10)\n",
    "\n",
    "    print(tmp_df[target_col].head())\n",
    "\n",
    "    print((tmp_df[target_col]==10).sum())\n",
    "    print(tmp_df.shape)\n",
    "    print_isna(tmp_df[target_col])"
   ]
  },
  {
   "cell_type": "code",
   "execution_count": 1697,
   "metadata": {},
   "outputs": [],
   "source": [
    "final_df = tmp_df"
   ]
  },
  {
   "cell_type": "code",
   "execution_count": 1698,
   "metadata": {},
   "outputs": [
    {
     "name": "stdout",
     "output_type": "stream",
     "text": [
      "       TRAVEL_STYL_1  TRAVEL_STYL_2  TRAVEL_STYL_3  TRAVEL_STYL_4  \\\n",
      "count    8335.000000    8335.000000    8335.000000    8335.000000   \n",
      "mean        2.980324       2.657229       2.530414       3.442112   \n",
      "std         1.626469       1.660236       1.506328       1.588212   \n",
      "min         1.000000       1.000000       1.000000       1.000000   \n",
      "25%         2.000000       1.000000       1.000000       2.000000   \n",
      "50%         3.000000       2.000000       2.000000       3.000000   \n",
      "75%         4.000000       4.000000       3.000000       4.000000   \n",
      "max         7.000000       7.000000       7.000000       7.000000   \n",
      "\n",
      "       TRAVEL_STYL_5  TRAVEL_STYL_6  TRAVEL_STYL_7  TRAVEL_STYL_8  \n",
      "count    8335.000000    8335.000000    8335.000000    8335.000000  \n",
      "mean        3.712537       3.732214       3.781524       4.756569  \n",
      "std         1.777632       1.659535       1.991798       1.770254  \n",
      "min         1.000000       1.000000       1.000000       1.000000  \n",
      "25%         2.000000       2.000000       2.000000       4.000000  \n",
      "50%         4.000000       4.000000       4.000000       5.000000  \n",
      "75%         5.000000       5.000000       6.000000       6.000000  \n",
      "max         7.000000       7.000000       7.000000       7.000000  \n",
      "Index(['TRAVEL_STYL_1', 'TRAVEL_STYL_2', 'TRAVEL_STYL_3', 'TRAVEL_STYL_4',\n",
      "       'TRAVEL_STYL_5', 'TRAVEL_STYL_6', 'TRAVEL_STYL_7', 'TRAVEL_STYL_8'],\n",
      "      dtype='object')\n",
      "   TRAVEL_STYL_1  TRAVEL_STYL_2  TRAVEL_STYL_3  TRAVEL_STYL_4  TRAVEL_STYL_5  \\\n",
      "0            2.0            1.0            2.0            4.0            4.0   \n",
      "\n",
      "   TRAVEL_STYL_6  TRAVEL_STYL_7  TRAVEL_STYL_8  \n",
      "0            4.0            2.0            6.0  \n"
     ]
    },
    {
     "name": "stdout",
     "output_type": "stream",
     "text": [
      "         0    1   2   3\n",
      "0      NaN  NaN NaN NaN\n",
      "1      NaN  NaN NaN NaN\n",
      "2      NaN  NaN NaN NaN\n",
      "3      4.0  NaN NaN NaN\n",
      "4      3.0  5.0 NaN NaN\n",
      "...    ...  ...  ..  ..\n",
      "11347  4.0  NaN NaN NaN\n",
      "11348  4.0  NaN NaN NaN\n",
      "11349  4.0  NaN NaN NaN\n",
      "11350  1.0  4.0 NaN NaN\n",
      "11351  1.0  4.0 NaN NaN\n",
      "\n",
      "[10467 rows x 4 columns]\n",
      "2.0    2687\n",
      "1.0    2082\n",
      "4.0    1319\n",
      "3.0    1091\n",
      "6.0     556\n",
      "5.0     449\n",
      "7.0     151\n",
      "Name: 0, dtype: int64\n"
     ]
    }
   ],
   "source": [
    "tmp_col = tmp_df.columns[-9:-1]\n",
    "print(tmp_df[tmp_col].describe())\n",
    "print(tmp_col)\n",
    "print(tmp_df[tmp_col].mode(axis=0))\n",
    "print(tmp_df[tmp_col].mode(axis=1))\n",
    "print(tmp_df[tmp_col].mode(axis=1)[0].value_counts())\n",
    "tmp_df['TRAVEL_STYL_0'] = tmp_df[tmp_col].mode(axis=1)[0]\n"
   ]
  },
  {
   "cell_type": "code",
   "execution_count": 1699,
   "metadata": {},
   "outputs": [
    {
     "name": "stdout",
     "output_type": "stream",
     "text": [
      "(10467, 23)\n",
      "1319\n",
      "0    4.0\n",
      "1    4.0\n",
      "2    4.0\n",
      "3    4.0\n",
      "4    3.0\n",
      "Name: TRAVEL_STYL_0, dtype: float64\n",
      "3451\n",
      "(10467, 23)\n",
      "0\n",
      "1781\n",
      "0    4.0\n",
      "1    4.0\n",
      "2    4.0\n",
      "3    1.0\n",
      "4    4.0\n",
      "Name: TRAVEL_STYL_1, dtype: float64\n",
      "3913\n",
      "(10467, 23)\n",
      "0\n",
      "1298\n",
      "0    4.0\n",
      "1    4.0\n",
      "2    4.0\n",
      "3    4.0\n",
      "4    1.0\n",
      "Name: TRAVEL_STYL_2, dtype: float64\n",
      "3430\n",
      "(10467, 23)\n",
      "0\n",
      "1154\n",
      "0    4.0\n",
      "1    4.0\n",
      "2    4.0\n",
      "3    4.0\n",
      "4    5.0\n",
      "Name: TRAVEL_STYL_3, dtype: float64\n",
      "3286\n",
      "(10467, 23)\n",
      "0\n",
      "1981\n",
      "0    4.0\n",
      "1    4.0\n",
      "2    4.0\n",
      "3    4.0\n",
      "4    6.0\n",
      "Name: TRAVEL_STYL_4, dtype: float64\n",
      "4113\n",
      "(10467, 23)\n",
      "0\n",
      "1760\n",
      "0    4.0\n",
      "1    4.0\n",
      "2    4.0\n",
      "3    1.0\n",
      "4    5.0\n",
      "Name: TRAVEL_STYL_5, dtype: float64\n",
      "3892\n",
      "(10467, 23)\n",
      "0\n",
      "2016\n",
      "0    4.0\n",
      "1    4.0\n",
      "2    4.0\n",
      "3    4.0\n",
      "4    2.0\n",
      "Name: TRAVEL_STYL_6, dtype: float64\n",
      "4148\n",
      "(10467, 23)\n",
      "0\n",
      "918\n",
      "0    4.0\n",
      "1    4.0\n",
      "2    4.0\n",
      "3    1.0\n",
      "4    3.0\n",
      "Name: TRAVEL_STYL_7, dtype: float64\n",
      "3050\n",
      "(10467, 23)\n",
      "0\n",
      "1402\n",
      "0    4.0\n",
      "1    4.0\n",
      "2    4.0\n",
      "3    4.0\n",
      "4    3.0\n",
      "Name: TRAVEL_STYL_8, dtype: float64\n",
      "3534\n",
      "(10467, 23)\n",
      "0\n"
     ]
    }
   ],
   "source": [
    "print(final_df.shape)\n",
    "# print_isna(final_df[target_col])\n",
    "\n",
    "tmp_df = final_df\n",
    "\n",
    "for i in range(0,9):\n",
    "    target_col = \"TRAVEL_STYL_\" + str(i)\n",
    "\n",
    "    print((tmp_df[target_col]==4).sum())\n",
    "    \n",
    "    tmp_df[target_col] = tmp_df[target_col].fillna(4)\n",
    "\n",
    "    print(tmp_df[target_col].head())\n",
    "\n",
    "    print((tmp_df[target_col]==4).sum())\n",
    "    print(tmp_df.shape)\n",
    "    print_isna(tmp_df[target_col])"
   ]
  },
  {
   "cell_type": "code",
   "execution_count": 1700,
   "metadata": {},
   "outputs": [
    {
     "name": "stdout",
     "output_type": "stream",
     "text": [
      "       TRAVEL_STYL_1  TRAVEL_STYL_2  TRAVEL_STYL_3  TRAVEL_STYL_4  \\\n",
      "count   10467.000000   10467.000000   10467.000000   10467.000000   \n",
      "mean        3.188019       2.930735       2.829751       3.555747   \n",
      "std         1.508368       1.577139       1.468720       1.434946   \n",
      "min         1.000000       1.000000       1.000000       1.000000   \n",
      "25%         2.000000       2.000000       2.000000       2.000000   \n",
      "50%         4.000000       3.000000       3.000000       4.000000   \n",
      "75%         4.000000       4.000000       4.000000       4.000000   \n",
      "max         7.000000       7.000000       7.000000       7.000000   \n",
      "\n",
      "       TRAVEL_STYL_5  TRAVEL_STYL_6  TRAVEL_STYL_7  TRAVEL_STYL_8  \\\n",
      "count   10467.000000   10467.000000   10467.000000   10467.000000   \n",
      "mean        3.771090       3.786758       3.826025       4.602465   \n",
      "std         1.590494       1.484812       1.779563       1.608811   \n",
      "min         1.000000       1.000000       1.000000       1.000000   \n",
      "25%         3.000000       3.000000       2.000000       4.000000   \n",
      "50%         4.000000       4.000000       4.000000       4.000000   \n",
      "75%         5.000000       5.000000       5.000000       6.000000   \n",
      "max         7.000000       7.000000       7.000000       7.000000   \n",
      "\n",
      "       TRAVEL_STYL_0  \n",
      "count   10467.000000  \n",
      "mean        2.978026  \n",
      "std         1.504085  \n",
      "min         1.000000  \n",
      "25%         2.000000  \n",
      "50%         3.000000  \n",
      "75%         4.000000  \n",
      "max         7.000000  \n",
      "['TRAVEL_STYL_1', 'TRAVEL_STYL_2', 'TRAVEL_STYL_3', 'TRAVEL_STYL_4', 'TRAVEL_STYL_5', 'TRAVEL_STYL_6', 'TRAVEL_STYL_7', 'TRAVEL_STYL_8', 'TRAVEL_STYL_0']\n",
      "   TRAVEL_STYL_1  TRAVEL_STYL_2  TRAVEL_STYL_3  TRAVEL_STYL_4  TRAVEL_STYL_5  \\\n",
      "0            4.0            4.0            4.0            4.0            4.0   \n",
      "\n",
      "   TRAVEL_STYL_6  TRAVEL_STYL_7  TRAVEL_STYL_8  TRAVEL_STYL_0  \n",
      "0            4.0            4.0            4.0            4.0  \n",
      "         0\n",
      "0      4.0\n",
      "1      4.0\n",
      "2      4.0\n",
      "3      4.0\n",
      "4      3.0\n",
      "...    ...\n",
      "11347  4.0\n",
      "11348  4.0\n",
      "11349  4.0\n",
      "11350  1.0\n",
      "11351  1.0\n",
      "\n",
      "[10467 rows x 1 columns]\n",
      "4.0    3451\n",
      "2.0    2687\n",
      "1.0    2082\n",
      "3.0    1091\n",
      "6.0     556\n",
      "5.0     449\n",
      "7.0     151\n",
      "Name: 0, dtype: int64\n"
     ]
    }
   ],
   "source": [
    "tmp_col = tmp_df.columns[-10:-2].tolist()\n",
    "tmp_col.append(tmp_df.columns[-1])\n",
    "print(tmp_df[tmp_col].describe())\n",
    "print(tmp_col)\n",
    "print(tmp_df[tmp_col].mode(axis=0))\n",
    "print(tmp_df[tmp_col].mode(axis=1))\n",
    "print(tmp_df[tmp_col].mode(axis=1)[0].value_counts())\n"
   ]
  },
  {
   "cell_type": "code",
   "execution_count": 1701,
   "metadata": {},
   "outputs": [
    {
     "name": "stdout",
     "output_type": "stream",
     "text": [
      "Index(['TRAVEL_ID', 'LOTNO_ADDR', 'LODGING_TYPE_CD', 'VISIT_AREA_TYPE_CD',\n",
      "       'REVISIT_YN', 'DGSTFN', 'REVISIT_INTENTION', 'RCMDTN_INTENTION',\n",
      "       'SCORE', 'INCOME', 'TRAVEL_MOTIVE_1', 'TRAVEL_MOTIVE_2',\n",
      "       'TRAVEL_MOTIVE_3', 'TRAVEL_STYL_1', 'TRAVEL_STYL_2', 'TRAVEL_STYL_3',\n",
      "       'TRAVEL_STYL_4', 'TRAVEL_STYL_5', 'TRAVEL_STYL_6', 'TRAVEL_STYL_7',\n",
      "       'TRAVEL_STYL_8', 'TRAVEL_MISSION', 'TRAVEL_STYL_0'],\n",
      "      dtype='object')\n",
      "Index(['TRAVEL_ID', 'LOTNO_ADDR', 'LODGING_TYPE_CD', 'VISIT_AREA_TYPE_CD',\n",
      "       'REVISIT_YN', 'DGSTFN', 'REVISIT_INTENTION', 'RCMDTN_INTENTION',\n",
      "       'SCORE', 'INCOME', 'TRAVEL_MOTIVE_1', 'TRAVEL_MOTIVE_2',\n",
      "       'TRAVEL_MOTIVE_3', 'TRAVEL_STYL_0', 'TRAVEL_STYL_1', 'TRAVEL_STYL_2',\n",
      "       'TRAVEL_STYL_3', 'TRAVEL_STYL_4', 'TRAVEL_STYL_5', 'TRAVEL_STYL_6',\n",
      "       'TRAVEL_STYL_7', 'TRAVEL_STYL_8', 'TRAVEL_MISSION'],\n",
      "      dtype='object')\n"
     ]
    }
   ],
   "source": [
    "tmp_col = tmp_df.columns\n",
    "print(tmp_col)\n",
    "new_col = ['TRAVEL_ID', 'LOTNO_ADDR', 'LODGING_TYPE_CD', 'VISIT_AREA_TYPE_CD',\n",
    "       'REVISIT_YN', 'DGSTFN', 'REVISIT_INTENTION', 'RCMDTN_INTENTION',\n",
    "       'SCORE', 'INCOME', 'TRAVEL_MOTIVE_1', 'TRAVEL_MOTIVE_2',\n",
    "       'TRAVEL_MOTIVE_3', 'TRAVEL_STYL_0', 'TRAVEL_STYL_1', 'TRAVEL_STYL_2', 'TRAVEL_STYL_3',\n",
    "       'TRAVEL_STYL_4', 'TRAVEL_STYL_5', 'TRAVEL_STYL_6', 'TRAVEL_STYL_7',\n",
    "       'TRAVEL_STYL_8', 'TRAVEL_MISSION']\n",
    "tmp_df = tmp_df[new_col]\n",
    "tmp_col = tmp_df.columns\n",
    "print(tmp_col)"
   ]
  },
  {
   "cell_type": "code",
   "execution_count": 1702,
   "metadata": {},
   "outputs": [],
   "source": [
    "final_df = tmp_df"
   ]
  },
  {
   "cell_type": "code",
   "execution_count": 1703,
   "metadata": {},
   "outputs": [
    {
     "name": "stdout",
     "output_type": "stream",
     "text": [
      "(10467, 23)\n",
      "2144\n",
      "0               2;\n",
      "1               2;\n",
      "2               2;\n",
      "3                0\n",
      "4    21;24;27;4;5;\n",
      "Name: TRAVEL_MISSION, dtype: object\n",
      "(10467, 23)\n",
      "0\n"
     ]
    }
   ],
   "source": [
    "target_col = \"TRAVEL_MISSION\"\n",
    "\n",
    "print(final_df.shape)\n",
    "print_isna(final_df[target_col])\n",
    "\n",
    "tmp_df = final_df\n",
    "\n",
    "tmp_df[target_col] = tmp_df[target_col].fillna(0)\n",
    "\n",
    "print(tmp_df[target_col].head())\n",
    "\n",
    "print(tmp_df.shape)\n",
    "print_isna(tmp_df[target_col])"
   ]
  },
  {
   "cell_type": "code",
   "execution_count": 1704,
   "metadata": {},
   "outputs": [],
   "source": [
    "final_df = tmp_df"
   ]
  },
  {
   "cell_type": "code",
   "execution_count": 1705,
   "metadata": {},
   "outputs": [
    {
     "name": "stdout",
     "output_type": "stream",
     "text": [
      "TRAVEL_ID\n",
      "0\n",
      "=================\n",
      "LOTNO_ADDR\n",
      "0\n",
      "=================\n",
      "LODGING_TYPE_CD\n",
      "0\n",
      "=================\n",
      "VISIT_AREA_TYPE_CD\n",
      "0\n",
      "=================\n",
      "REVISIT_YN\n",
      "0\n",
      "=================\n",
      "DGSTFN\n",
      "0\n",
      "=================\n",
      "REVISIT_INTENTION\n",
      "0\n",
      "=================\n",
      "RCMDTN_INTENTION\n",
      "0\n",
      "=================\n",
      "SCORE\n",
      "0\n",
      "=================\n",
      "INCOME\n",
      "0\n",
      "=================\n",
      "TRAVEL_MOTIVE_1\n",
      "0\n",
      "=================\n",
      "TRAVEL_MOTIVE_2\n",
      "0\n",
      "=================\n",
      "TRAVEL_MOTIVE_3\n",
      "0\n",
      "=================\n",
      "TRAVEL_STYL_0\n",
      "0\n",
      "=================\n",
      "TRAVEL_STYL_1\n",
      "0\n",
      "=================\n",
      "TRAVEL_STYL_2\n",
      "0\n",
      "=================\n",
      "TRAVEL_STYL_3\n",
      "0\n",
      "=================\n",
      "TRAVEL_STYL_4\n",
      "0\n",
      "=================\n",
      "TRAVEL_STYL_5\n",
      "0\n",
      "=================\n",
      "TRAVEL_STYL_6\n",
      "0\n",
      "=================\n",
      "TRAVEL_STYL_7\n",
      "0\n",
      "=================\n",
      "TRAVEL_STYL_8\n",
      "0\n",
      "=================\n",
      "TRAVEL_MISSION\n",
      "0\n",
      "=================\n"
     ]
    }
   ],
   "source": [
    "tmp_df = final_df\n",
    "for col_name in final_df.columns:\n",
    "    print(col_name)\n",
    "    print(pd.isna(tmp_df[col_name]).sum())\n",
    "    print(\"=================\")\n",
    "    \n",
    "\n",
    "tmp_df.to_csv(\"./data/final_dataset.csv\")"
   ]
  }
 ],
 "metadata": {
  "kernelspec": {
   "display_name": "flask",
   "language": "python",
   "name": "python3"
  },
  "language_info": {
   "codemirror_mode": {
    "name": "ipython",
    "version": 3
   },
   "file_extension": ".py",
   "mimetype": "text/x-python",
   "name": "python",
   "nbconvert_exporter": "python",
   "pygments_lexer": "ipython3",
   "version": "3.11.3"
  }
 },
 "nbformat": 4,
 "nbformat_minor": 2
}
