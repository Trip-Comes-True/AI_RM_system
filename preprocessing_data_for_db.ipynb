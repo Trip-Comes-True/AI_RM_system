{
 "cells": [
  {
   "cell_type": "code",
   "execution_count": 125,
   "metadata": {},
   "outputs": [],
   "source": [
    "import pandas as pd\n",
    "import numpy as np\n",
    "import os\n",
    "import os.path as path"
   ]
  },
  {
   "cell_type": "code",
   "execution_count": 126,
   "metadata": {},
   "outputs": [],
   "source": [
    "data_path = \"./data/정보대 SW contest/279.국내 여행로그 데이터(서부권)/01.데이터/Training/02.라벨링데이터/TL_csv\""
   ]
  },
  {
   "cell_type": "code",
   "execution_count": 127,
   "metadata": {},
   "outputs": [],
   "source": [
    "# csv_name_list = os.listdir(data_path)"
   ]
  },
  {
   "cell_type": "code",
   "execution_count": 128,
   "metadata": {},
   "outputs": [],
   "source": [
    "# print(csv_name_list)"
   ]
  },
  {
   "cell_type": "code",
   "execution_count": 129,
   "metadata": {},
   "outputs": [],
   "source": [
    "# for csv_name in csv_name_list:\n",
    "#     print(\"===================={}===================\".format(csv_name))\n",
    "#     df = pd.read_csv(path.join(data_path, csv_name))\n",
    "#     print(df.describe())"
   ]
  },
  {
   "cell_type": "code",
   "execution_count": 130,
   "metadata": {},
   "outputs": [],
   "source": [
    "def print_isna(df):\n",
    "    print(pd.isna(df).sum())"
   ]
  },
  {
   "cell_type": "markdown",
   "metadata": {},
   "source": [
    "# 학습 데이터 셋 만들기\n",
    "\n",
    "# INPUT\n",
    "\n",
    "> 소득\n",
    "    - INC || INCOME, HOUSE_INCOME <========== tn_traveller_master_여행객 Master_C \n",
    "\n",
    "    특이사항 - 소득 값이 두가지 존재\n",
    "\n",
    "    INCOMDE사용으로 일단 대체\n",
    "    \n",
    "> 미션\n",
    "    - MIS || TRAVEL_MISSION(==TRAVEL_PURPOSE) <========== tn_travel_여행_C\n",
    "\n",
    "    특이사항 - 여행 미션내 값들이 여러개 존재\n",
    "\n",
    "> 여행동반자관계\n",
    "    - TCR || REL_CD <========== tn_companion_info_동반자정보_C\n",
    "\n",
    "> 숙소유형 \n",
    "    - HTY || LODGING_TYPE_CD <========= tn_visit_area_info_방문지정보_C\n",
    "\n",
    "\n",
    "> 성별\n",
    "    - GEN || GENDER  <========== tn_traveller_master_여행객 Master_C\n",
    "\n",
    "    특이사항 남, 여로 적혀 있음\n",
    "\n",
    "    해당 갑은 남 : 1, 여 : 0으로 변경\n",
    "\n",
    "> 여행동기\n",
    "    - TMT || TRAVEL_MOTiVE_1 ~ 3 <========== tn_traveller_master_여행객 Master_C\n",
    "\n",
    "    해당 항목이 1~3번 존재\n",
    "\n",
    "    3가지 중복 없이 입력\n",
    "\n",
    "> 여행스타일\n",
    "    - STY || TRAVEL_STYL_1 ~ 8  <========== tn_traveller_master_여행객 Master_C\n",
    "\n",
    "    해당 항목이 1~8번이 존재\n",
    "\n",
    "    => 1개만 받을 예정\n",
    "    학습 시 max값으로 대체\n",
    "\n",
    "> 동반자연령대\n",
    "    - AGE || COMPANION_AGE_GRP <============ tn_companion_info_동반자정보_C\n",
    "    \n",
    "\n",
    "#################################### 여기 까지는 후에 타 서버에서 받아서 예측시 입력해 줄 데이터 #####################################\n",
    "\n",
    "\n",
    "\n",
    "#################################################################################################################################\n",
    "\n",
    "# OUTPUT\n",
    " \n",
    "\n",
    "> (DGSTFN + REVISIT_INTENTOIN + RCMDTN_INTENTION) / 3 =======>>>>>>>>> 실제 출력\n",
    "    \n",
    "    모두 tn_visit_area_info_방문지정보_C 에 존재\n",
    "\n",
    "    '()' 안의 더해지는 값들은 각 값의 범위가 1~\n",
    "\n",
    "> 여행지 만족도\n",
    "\n",
    "    train 간에는 모델은 입력된 여행 데이터를 바탕으로 각 여행지의 점수를 맞추는 작업을 수행한다.\n",
    "        \n",
    "        출력한 점수 중 상위 k개의 장소를 선정 해당 장소 중에 정답이 존재한다면\n",
    "    \n",
    "    predict의 경우 모든 여행지에 대해서 점수를 매기는 작업 수행 -> softmax를 통해서 표준화하고 내림차순 정렬\n",
    "\n",
    "\n",
    "\n",
    "> 여행 ID  ======>>>>>> 필요 X\n",
    "    - || TRAVEL_ID <======= tn_traveller_master_여행객 Master_C\n",
    "\n",
    "> 방문지 주소 # 전처리 후 리스트해서 전달\n",
    "    - - || LOTNO_ADDR <====== tn_visit_area_info_방문지정보_C\n",
    "\n",
    "    몇 항목만 사용\n",
    "        VIS\n",
    "            1:자연관광지\n",
    "            2:역사/유적/종교 시설\n",
    "            3:문화 시설\n",
    "            4:상업지구\n",
    "            5:레저\n",
    "            6:테마시설\n",
    "            7:산책로, 둘레길 등\n",
    "            8:지역 축제/행사\n",
    "            13: 체험 활동 관광지\n",
    "\n",
    "            보류\n",
    "                10:상점\n",
    "                11:식당/카페\n",
    "                12:기타\n",
    "                24:숙소\n",
    "\n",
    "            제거\n",
    "                21:집\n",
    "                22:친구/친구집\n",
    "                23:사무실\n",
    "                \n",
    "\n",
    "2가지 경우가 존재\n",
    "\n",
    "1. travel id를 확률을 맞추게하고\n",
    "\n",
    "    2. 확률 분포를 이용 해당 분포 순으로 해당 id가 방문한 지역 전달\n",
    "\n",
    "2. 방문지 수에 맞게 데이터를 확장한다.\n",
    "\n",
    "    2. 이 경우 추가적인 데이터를 심어주는게 좋을 듯하다 예를 들어 순서 방문 순서 정보나 재방문 점수 같은 정보를 추가해서 유저 정보 + 다른 추가 정보 이용 학습\n"
   ]
  },
  {
   "cell_type": "code",
   "execution_count": 131,
   "metadata": {},
   "outputs": [],
   "source": [
    "input_data_csv_name_list = [\"tn_traveller_master_여행객 Master_C\", \"tn_travel_여행_C\", \"tn_companion_info_동반자정보_C\", \"tn_visit_area_info_방문지정보_C\"]"
   ]
  },
  {
   "cell_type": "code",
   "execution_count": 132,
   "metadata": {},
   "outputs": [],
   "source": [
    "output_data_csv_name_list = [\"tn_travel_여행_C\",\"tn_visit_area_info_방문지정보_C\"]"
   ]
  },
  {
   "cell_type": "code",
   "execution_count": 133,
   "metadata": {},
   "outputs": [
    {
     "name": "stdout",
     "output_type": "stream",
     "text": [
      "{'TRAVEL_ID': ['1']}\n",
      "{'여행객': [], '여행': [], '동반자정보': []}\n",
      "{'TRAVELER_ID': [], '방문지정보': []}\n",
      "./data/정보대 SW contest/279.국내 여행로그 데이터(서부권)/01.데이터/Training/02.라벨링데이터/TL_csv\n"
     ]
    }
   ],
   "source": [
    "data_path = \"./data/정보대 SW contest/279.국내 여행로그 데이터(서부권)/01.데이터/Training/02.라벨링데이터/TL_csv\"\n",
    "extender = '.csv'\n",
    "\n",
    "index_dict = {'TRAVEL_ID':['1']}\n",
    "# input_dict = {'여행객':[],'여행':[],'동반자정보':[],'방문지정보':[]}\n",
    "# 방문지 정보는 output에서 같이 처리\n",
    "input_dict = {'여행객':[],'여행':[],'동반자정보':[]}\n",
    "output_dict = {'TRAVELER_ID':[],'방문지정보':[]}\n",
    "print(index_dict)\n",
    "print(input_dict)\n",
    "print(output_dict)\n",
    "print(data_path)"
   ]
  },
  {
   "cell_type": "code",
   "execution_count": 134,
   "metadata": {},
   "outputs": [
    {
     "name": "stdout",
     "output_type": "stream",
     "text": [
      "{'TRAVEL_ID': array(['c003867', 'c000679', 'c013674', ..., 'c008277', 'c012053',\n",
      "       'c007519'], dtype=object)}\n"
     ]
    }
   ],
   "source": [
    "tmp_df = pd.read_csv(path.join(data_path, input_data_csv_name_list[0]+extender))\n",
    "\n",
    "index_list = tmp_df['TRAVELER_ID'].values\n",
    "index_dict['TRAVEL_ID'] = index_list\n",
    "print(index_dict)\n",
    "# print(tmp_df['TRAVELER_ID'].values)"
   ]
  },
  {
   "cell_type": "code",
   "execution_count": 135,
   "metadata": {},
   "outputs": [
    {
     "name": "stdout",
     "output_type": "stream",
     "text": [
      "Index(['INCOME', 'HOUSE_INCOME', 'TRAVEL_MOTIVE_1', 'TRAVEL_MOTIVE_2',\n",
      "       'TRAVEL_MOTIVE_3', 'TRAVEL_STYL_1', 'TRAVEL_STYL_2', 'TRAVEL_STYL_3',\n",
      "       'TRAVEL_STYL_4', 'TRAVEL_STYL_5', 'TRAVEL_STYL_6', 'TRAVEL_STYL_7',\n",
      "       'TRAVEL_STYL_8'],\n",
      "      dtype='object')\n",
      "           INCOME  HOUSE_INCOME  TRAVEL_MOTIVE_1  TRAVEL_MOTIVE_2  \\\n",
      "TRAVEL_ID                                                           \n",
      "c_c003867       4           NaN              1.0              7.0   \n",
      "c_c000679       4           NaN              5.0              3.0   \n",
      "c_c013674       4           6.0              1.0              8.0   \n",
      "c_c010826       1           1.0              7.0              2.0   \n",
      "c_c012020       3           7.0              3.0              1.0   \n",
      "\n",
      "           TRAVEL_MOTIVE_3  TRAVEL_STYL_1  TRAVEL_STYL_2  TRAVEL_STYL_3  \\\n",
      "TRAVEL_ID                                                                 \n",
      "c_c003867              2.0              2              1              2   \n",
      "c_c000679              6.0              4              4              4   \n",
      "c_c013674              3.0              1              1              5   \n",
      "c_c010826              4.0              5              3              3   \n",
      "c_c012020              7.0              1              7              4   \n",
      "\n",
      "           TRAVEL_STYL_4  TRAVEL_STYL_5  TRAVEL_STYL_6  TRAVEL_STYL_7  \\\n",
      "TRAVEL_ID                                                               \n",
      "c_c003867              3              5              5              2   \n",
      "c_c000679              4              4              4              7   \n",
      "c_c013674              1              1              1              1   \n",
      "c_c010826              6              6              6              5   \n",
      "c_c012020              7              4              6              1   \n",
      "\n",
      "           TRAVEL_STYL_8  \n",
      "TRAVEL_ID                 \n",
      "c_c003867              5  \n",
      "c_c000679              7  \n",
      "c_c013674              7  \n",
      "c_c010826              6  \n",
      "c_c012020              4  \n"
     ]
    }
   ],
   "source": [
    "get_list = ['TRAVELER_ID','INCOME', 'HOUSE_INCOME', 'TRAVEL_MOTIVE_1','TRAVEL_MOTIVE_2','TRAVEL_MOTIVE_3', \n",
    "            'TRAVEL_STYL_1', 'TRAVEL_STYL_2', 'TRAVEL_STYL_3', 'TRAVEL_STYL_4', 'TRAVEL_STYL_5', 'TRAVEL_STYL_6', 'TRAVEL_STYL_7', 'TRAVEL_STYL_8']\n",
    "\n",
    "tmp_df = pd.read_csv(path.join(data_path, input_data_csv_name_list[0]+extender))\n",
    "tmp_value = tmp_df['TRAVELER_ID'].values\n",
    "\n",
    "tmp_value = [ s[0]+\"_\"+s for s in tmp_value ]\n",
    "tmp_df['TRAVEL_ID'] = tmp_value\n",
    "tmp_df = tmp_df.drop('TRAVELER_ID', axis='columns')\n",
    "\n",
    "tmp_df = tmp_df.set_index(\"TRAVEL_ID\")\n",
    "\n",
    "input_dict['여행객'] = tmp_df[get_list[1:]]\n",
    "print(input_dict['여행객'].columns)\n",
    "print(input_dict['여행객'].head())\n"
   ]
  },
  {
   "cell_type": "code",
   "execution_count": 136,
   "metadata": {},
   "outputs": [
    {
     "name": "stdout",
     "output_type": "stream",
     "text": [
      "TRAVEL_MISSION    0\n",
      "dtype: int64\n"
     ]
    }
   ],
   "source": [
    "get_list = ['TRAVEL_ID', 'TRAVEL_MISSION']\n",
    "\n",
    "tmp_df = pd.read_csv(path.join(data_path, input_data_csv_name_list[1]+extender))\n",
    "tmp_df = tmp_df.set_index(get_list[0])\n",
    "\n",
    "input_dict['여행'] = tmp_df[get_list[1:]]\n",
    "print_isna(input_dict['여행'])"
   ]
  },
  {
   "cell_type": "code",
   "execution_count": 137,
   "metadata": {},
   "outputs": [
    {
     "name": "stdout",
     "output_type": "stream",
     "text": [
      "REL_CD               0\n",
      "COMPANION_AGE_GRP    0\n",
      "dtype: int64\n"
     ]
    }
   ],
   "source": [
    "get_list = ['TRAVEL_ID', 'REL_CD', 'COMPANION_AGE_GRP']\n",
    "\n",
    "tmp_df = pd.read_csv(path.join(data_path, input_data_csv_name_list[2]+extender))\n",
    "tmp_df = tmp_df.set_index(get_list[0])\n",
    "input_dict['동반자정보'] = tmp_df[get_list[1:]]\n",
    "print_isna(input_dict['동반자정보'])"
   ]
  },
  {
   "cell_type": "code",
   "execution_count": 138,
   "metadata": {},
   "outputs": [
    {
     "data": {
      "text/plain": [
       "'output_dict의 방문지정보에서 같이 처리'"
      ]
     },
     "execution_count": 138,
     "metadata": {},
     "output_type": "execute_result"
    }
   ],
   "source": [
    "# get_list = ['TRAVEL_ID', 'LODGING_TYPE_CD', 'VISIT_AREA_TYPE_CD']\n",
    "\n",
    "# tmp_df = pd.read_csv(path.join(data_path, input_data_csv_name_list[3]+extender))\n",
    "# tmp_df = tmp_df.set_index(get_list[0])\n",
    "# input_dict['방문지정보'] = tmp_df[get_list[1:]]\n",
    "# # print(tmp_df)\n",
    "\n",
    "\"\"\"output_dict의 방문지정보에서 같이 처리\"\"\""
   ]
  },
  {
   "cell_type": "code",
   "execution_count": 139,
   "metadata": {},
   "outputs": [
    {
     "name": "stdout",
     "output_type": "stream",
     "text": [
      "TRAVELER_ID    0\n",
      "dtype: int64\n"
     ]
    }
   ],
   "source": [
    "get_list = ['TRAVEL_ID','TRAVELER_ID']\n",
    "\n",
    "tmp_df = pd.read_csv(path.join(data_path, output_data_csv_name_list[0]+extender))\n",
    "tmp_df = tmp_df.set_index(get_list[0])\n",
    "output_dict['TRAVELER_ID'] = tmp_df[get_list[1:]]\n",
    "# print(output_dict['TRAVELER_ID'])\n",
    "print_isna(output_dict['TRAVELER_ID'])"
   ]
  },
  {
   "cell_type": "code",
   "execution_count": 140,
   "metadata": {},
   "outputs": [
    {
     "name": "stdout",
     "output_type": "stream",
     "text": [
      "VISIT_AREA_NM            0\n",
      "LOTNO_ADDR            8381\n",
      "X_COORD               7330\n",
      "Y_COORD               7330\n",
      "VISIT_AREA_TYPE_CD       0\n",
      "dtype: int64\n"
     ]
    },
    {
     "name": "stderr",
     "output_type": "stream",
     "text": [
      "C:\\Users\\jinmi\\AppData\\Local\\Temp\\ipykernel_18544\\2150674066.py:3: DtypeWarning: Columns (9) have mixed types. Specify dtype option on import or set low_memory=False.\n",
      "  tmp_df = pd.read_csv(path.join(data_path, output_data_csv_name_list[1]+extender))\n"
     ]
    }
   ],
   "source": [
    "get_list = ['TRAVEL_ID', 'VISIT_AREA_NM','LOTNO_ADDR','X_COORD','Y_COORD', 'VISIT_AREA_TYPE_CD']\n",
    "\n",
    "tmp_df = pd.read_csv(path.join(data_path, output_data_csv_name_list[1]+extender))\n",
    "tmp_df = tmp_df.set_index(get_list[0])\n",
    "output_dict['방문지정보'] = tmp_df[get_list[1:]]\n",
    "print_isna(output_dict['방문지정보'])\n",
    "# print(tmp_df)"
   ]
  },
  {
   "cell_type": "code",
   "execution_count": 141,
   "metadata": {},
   "outputs": [
    {
     "name": "stdout",
     "output_type": "stream",
     "text": [
      "여행객\n",
      "----------------------------------------\n",
      "Index(['c_c003867', 'c_c000679', 'c_c013674', 'c_c010826', 'c_c012020',\n",
      "       'c_c009357', 'c_c012760', 'c_c003756', 'c_c003541', 'c_c002909',\n",
      "       ...\n",
      "       'c_c013812', 'c_c012432', 'c_c009023', 'c_c010863', 'c_c001641',\n",
      "       'c_c005317', 'c_c000381', 'c_c008277', 'c_c012053', 'c_c007519'],\n",
      "      dtype='object', name='TRAVEL_ID', length=3200)\n",
      "--------------------------------------------------------------------------------\n",
      "여행\n",
      "----------------------------------------\n",
      "Index(['c_c011995', 'c_c008882', 'c_c003940', 'c_c012638', 'c_c011983',\n",
      "       'c_c012367', 'c_c013909', 'b_b006673', 'c_c012881', 'c_c002721',\n",
      "       ...\n",
      "       'c_c002389', 'c_c003692', 'c_c013085', 'c_c011684', 'c_c000183',\n",
      "       'c_c012049', 'c_c010871', 'c_c004312', 'c_c009302', 'c_c000104'],\n",
      "      dtype='object', name='TRAVEL_ID', length=3200)\n",
      "--------------------------------------------------------------------------------\n",
      "동반자정보\n",
      "----------------------------------------\n",
      "Index(['c_c000341', 'c_c000783', 'c_c009513', 'c_c000285', 'c_c003093',\n",
      "       'c_c011588', 'c_c000623', 'c_c014312', 'b_b014715', 'c_c004305',\n",
      "       ...\n",
      "       'c_c002384', 'c_c002327', 'c_c011412', 'c_c000635', 'c_c000813',\n",
      "       'c_c003367', 'c_c000159', 'c_c005489', 'c_c005691', 'c_c002690'],\n",
      "      dtype='object', name='TRAVEL_ID', length=4741)\n",
      "--------------------------------------------------------------------------------\n"
     ]
    }
   ],
   "source": [
    "for keys in input_dict:\n",
    "    print(keys)\n",
    "    # print(input_dict[keys].head())\n",
    "    tmp_df = input_dict[keys]\n",
    "    print(\"----------------------------------------\")\n",
    "    print(tmp_df.index)\n",
    "    # print(tmp_df.sort_index().head())\n",
    "    print(\"----------------------------------------\"*2)\n"
   ]
  },
  {
   "cell_type": "code",
   "execution_count": 142,
   "metadata": {},
   "outputs": [
    {
     "name": "stdout",
     "output_type": "stream",
     "text": [
      "여행객\n",
      "----------------------------------------\n",
      "Index(['INCOME', 'HOUSE_INCOME', 'TRAVEL_MOTIVE_1', 'TRAVEL_MOTIVE_2',\n",
      "       'TRAVEL_MOTIVE_3', 'TRAVEL_STYL_1', 'TRAVEL_STYL_2', 'TRAVEL_STYL_3',\n",
      "       'TRAVEL_STYL_4', 'TRAVEL_STYL_5', 'TRAVEL_STYL_6', 'TRAVEL_STYL_7',\n",
      "       'TRAVEL_STYL_8'],\n",
      "      dtype='object')\n",
      "--------------------------------------------------------------------------------\n",
      "여행\n",
      "----------------------------------------\n",
      "Index(['TRAVEL_MISSION'], dtype='object')\n",
      "--------------------------------------------------------------------------------\n",
      "동반자정보\n",
      "----------------------------------------\n",
      "Index(['REL_CD', 'COMPANION_AGE_GRP'], dtype='object')\n",
      "--------------------------------------------------------------------------------\n",
      "--------------------------------------------------------------------------------\n",
      "--------------------------------------------------------------------------------\n",
      "--------------------------------------------------------------------------------\n",
      "TRAVELER_ID\n",
      "----------------------------------------\n",
      "Index(['TRAVELER_ID'], dtype='object')\n",
      "--------------------------------------------------------------------------------\n",
      "방문지정보\n",
      "----------------------------------------\n",
      "Index(['VISIT_AREA_NM', 'LOTNO_ADDR', 'X_COORD', 'Y_COORD',\n",
      "       'VISIT_AREA_TYPE_CD'],\n",
      "      dtype='object')\n",
      "--------------------------------------------------------------------------------\n"
     ]
    }
   ],
   "source": [
    "for keys in input_dict:\n",
    "    print(keys)\n",
    "    # print(input_dict[keys].head())\n",
    "    tmp_df = input_dict[keys]\n",
    "    print(\"----------------------------------------\")\n",
    "    print(tmp_df.columns)\n",
    "    # print(tmp_df.sort_index().head())\n",
    "    print(\"----------------------------------------\"*2)\n",
    "print(\"----------------------------------------\"*2)\n",
    "print(\"----------------------------------------\"*2)\n",
    "print(\"----------------------------------------\"*2)\n",
    "for keys in output_dict:\n",
    "    print(keys)\n",
    "    # print(input_dict[keys].head())\n",
    "    tmp_df = output_dict[keys]\n",
    "    print(\"----------------------------------------\")\n",
    "    print(tmp_df.columns)\n",
    "    # print(tmp_df.sort_index().head())\n",
    "    print(\"----------------------------------------\"*2)\n"
   ]
  },
  {
   "cell_type": "markdown",
   "metadata": {},
   "source": [
    "# 방분지 정보 정제\n",
    "\n",
    "> 아래는 해당 번호들 제외하고 걸러야한다\n",
    "\n",
    "VIS - VISIT_AREA_TYPE_CD 사용할 항목들\n",
    "\n",
    "            1:자연관광지\n",
    "            2:역사/유적/종교 시설\n",
    "            3:문화 시설\n",
    "            4:상업지구\n",
    "            5:레저\n",
    "            6:테마시설\n",
    "            7:산책로, 둘레길 등\n",
    "            8:지역 축제/행사\n",
    "            11: 식당 카페\n",
    "            13: 체험 활동 관광지\n",
    "\n",
    "            \n",
    "\n",
    "\n",
    "> 아래는 계산해서 SCORE로 추가\n",
    "\n",
    "(DGSTFN + REVISIT_INTENTOIN + RCMDTN_INTENTION) / 3 =======>>>>>>>>> 실제 출력\n",
    "    \n",
    "    모두 tn_visit_area_info_방문지정보_C 에 존재\n",
    "\n",
    "    '()' 안의 더해지는 값들은 각 값의 범위가 1~5\n",
    "\n",
    "\n",
    "> 최종 11352개의 방문지 존재 해당 정보를 바탕으로 데이터 수립 \n",
    "\n",
    "    TRAVERL_ID에 해당 하는 정보들을 추가 적으로 붙여넣어 준다.\n",
    "\n"
   ]
  },
  {
   "cell_type": "code",
   "execution_count": 143,
   "metadata": {},
   "outputs": [
    {
     "name": "stdout",
     "output_type": "stream",
     "text": [
      "          VISIT_AREA_NM             LOTNO_ADDR     X_COORD    Y_COORD  \\\n",
      "TRAVEL_ID                                                               \n",
      "c_c005733       3000냥밥집  충북 영동군 영동읍 계산리 653-12  127.785733   36.17142   \n",
      "c_c000326    소노캄여수 마레첼로         전남 여수시 수정동 772  127.754615  34.742572   \n",
      "c_c003528      생거진천문화축제     충북 진천군 진천읍 읍내리 165  127.446235  36.858789   \n",
      "c_c001050           오목대    전북 전주시 완산구 교동 산 1-3  127.154583  35.814382   \n",
      "c_c001776       남당노을전망대  충남 홍성군 서부면 남당리 767-18  126.465582  36.544343   \n",
      "\n",
      "           VISIT_AREA_TYPE_CD  \n",
      "TRAVEL_ID                      \n",
      "c_c005733                  11  \n",
      "c_c000326                  11  \n",
      "c_c003528                   8  \n",
      "c_c001050                   2  \n",
      "c_c001776                   1  \n",
      "[False False False ...  True  True  True]\n",
      "Index(['VISIT_AREA_NM', 'LOTNO_ADDR', 'X_COORD', 'Y_COORD',\n",
      "       'VISIT_AREA_TYPE_CD'],\n",
      "      dtype='object')\n",
      "[11  8  2  1  6 13  7  4  3  5]\n",
      "['충북 영동군 영동읍 계산리 653-12' '전남 여수시 수정동 772' '충북 진천군 진천읍 읍내리 165' ...\n",
      " '전남 화순군 능주면 남정리 173-2' '충남 천안시 동남구 원성1동 476-4' '전북 군산시 조촌동 922-14']\n"
     ]
    }
   ],
   "source": [
    "tmp_df = output_dict['방문지정보']\n",
    "print(tmp_df.head())\n",
    "\n",
    "new_df = tmp_df[tmp_df['VISIT_AREA_TYPE_CD'].isin([1,2,3,4,5,6,7,8,11,13])]\n",
    "# new_df.loc[:,'SCORE'] = ((new_df['DGSTFN'] + new_df['REVISIT_INTENTION'] + new_df['RCMDTN_INTENTION']) / 3.0).round(4)\n",
    "# print(new_df)\n",
    "output_dict['방문지정보'] = new_df\n",
    "# print(output_dict['방문지정보'])\n",
    "\n",
    "duplicated_index = new_df.index.duplicated()\n",
    "print(duplicated_index)\n",
    "print(new_df.columns)\n",
    "print(pd.unique(new_df['VISIT_AREA_TYPE_CD']))\n",
    "print(pd.unique(new_df['LOTNO_ADDR']))"
   ]
  },
  {
   "cell_type": "code",
   "execution_count": 144,
   "metadata": {},
   "outputs": [],
   "source": [
    "final_df = new_df"
   ]
  },
  {
   "cell_type": "code",
   "execution_count": 145,
   "metadata": {},
   "outputs": [
    {
     "name": "stdout",
     "output_type": "stream",
     "text": [
      "(19964, 5)\n",
      "1604\n",
      "(18360, 5)\n",
      "0\n"
     ]
    }
   ],
   "source": [
    "target_col = \"LOTNO_ADDR\"\n",
    "\n",
    "print(final_df.shape)\n",
    "print_isna(final_df[target_col])\n",
    "tmp_df = final_df\n",
    "\n",
    "tmp_df = tmp_df.loc[~pd.isna(tmp_df.loc[:,target_col])]\n",
    "\n",
    "\n",
    "\n",
    "print(tmp_df.shape)\n",
    "print_isna(tmp_df[target_col])"
   ]
  },
  {
   "cell_type": "code",
   "execution_count": 146,
   "metadata": {},
   "outputs": [],
   "source": [
    "final_df = tmp_df"
   ]
  },
  {
   "cell_type": "code",
   "execution_count": 147,
   "metadata": {},
   "outputs": [
    {
     "name": "stdout",
     "output_type": "stream",
     "text": [
      "(18360, 5)\n",
      "24\n",
      "(18336, 5)\n",
      "0\n"
     ]
    }
   ],
   "source": [
    "target_col = \"X_COORD\"\n",
    "\n",
    "print(final_df.shape)\n",
    "print_isna(final_df[target_col])\n",
    "tmp_df = final_df\n",
    "\n",
    "tmp_df = tmp_df.loc[~pd.isna(tmp_df.loc[:,target_col])]\n",
    "\n",
    "\n",
    "\n",
    "print(tmp_df.shape)\n",
    "print_isna(tmp_df[target_col])"
   ]
  },
  {
   "cell_type": "code",
   "execution_count": 148,
   "metadata": {},
   "outputs": [
    {
     "name": "stdout",
     "output_type": "stream",
     "text": [
      "VISIT_AREA_NM         0\n",
      "LOTNO_ADDR            0\n",
      "X_COORD               0\n",
      "Y_COORD               0\n",
      "VISIT_AREA_TYPE_CD    0\n",
      "dtype: int64\n"
     ]
    }
   ],
   "source": [
    "print(pd.isna(tmp_df).sum())"
   ]
  },
  {
   "cell_type": "code",
   "execution_count": 149,
   "metadata": {},
   "outputs": [],
   "source": [
    "tmp_df = tmp_df.reset_index()"
   ]
  },
  {
   "cell_type": "code",
   "execution_count": 150,
   "metadata": {},
   "outputs": [],
   "source": [
    "tmp_df = tmp_df.drop(\"TRAVEL_ID\", axis=1)"
   ]
  },
  {
   "cell_type": "code",
   "execution_count": 151,
   "metadata": {},
   "outputs": [
    {
     "data": {
      "text/html": [
       "<div>\n",
       "<style scoped>\n",
       "    .dataframe tbody tr th:only-of-type {\n",
       "        vertical-align: middle;\n",
       "    }\n",
       "\n",
       "    .dataframe tbody tr th {\n",
       "        vertical-align: top;\n",
       "    }\n",
       "\n",
       "    .dataframe thead th {\n",
       "        text-align: right;\n",
       "    }\n",
       "</style>\n",
       "<table border=\"1\" class=\"dataframe\">\n",
       "  <thead>\n",
       "    <tr style=\"text-align: right;\">\n",
       "      <th></th>\n",
       "      <th>VISIT_AREA_NM</th>\n",
       "      <th>LOTNO_ADDR</th>\n",
       "      <th>X_COORD</th>\n",
       "      <th>Y_COORD</th>\n",
       "      <th>VISIT_AREA_TYPE_CD</th>\n",
       "    </tr>\n",
       "  </thead>\n",
       "  <tbody>\n",
       "    <tr>\n",
       "      <th>0</th>\n",
       "      <td>3000냥밥집</td>\n",
       "      <td>충북 영동군 영동읍 계산리 653-12</td>\n",
       "      <td>127.785733</td>\n",
       "      <td>36.17142</td>\n",
       "      <td>11</td>\n",
       "    </tr>\n",
       "    <tr>\n",
       "      <th>1</th>\n",
       "      <td>소노캄여수 마레첼로</td>\n",
       "      <td>전남 여수시 수정동 772</td>\n",
       "      <td>127.754615</td>\n",
       "      <td>34.742572</td>\n",
       "      <td>11</td>\n",
       "    </tr>\n",
       "    <tr>\n",
       "      <th>2</th>\n",
       "      <td>생거진천문화축제</td>\n",
       "      <td>충북 진천군 진천읍 읍내리 165</td>\n",
       "      <td>127.446235</td>\n",
       "      <td>36.858789</td>\n",
       "      <td>8</td>\n",
       "    </tr>\n",
       "    <tr>\n",
       "      <th>3</th>\n",
       "      <td>오목대</td>\n",
       "      <td>전북 전주시 완산구 교동 산 1-3</td>\n",
       "      <td>127.154583</td>\n",
       "      <td>35.814382</td>\n",
       "      <td>2</td>\n",
       "    </tr>\n",
       "    <tr>\n",
       "      <th>4</th>\n",
       "      <td>남당노을전망대</td>\n",
       "      <td>충남 홍성군 서부면 남당리 767-18</td>\n",
       "      <td>126.465582</td>\n",
       "      <td>36.544343</td>\n",
       "      <td>1</td>\n",
       "    </tr>\n",
       "    <tr>\n",
       "      <th>...</th>\n",
       "      <td>...</td>\n",
       "      <td>...</td>\n",
       "      <td>...</td>\n",
       "      <td>...</td>\n",
       "      <td>...</td>\n",
       "    </tr>\n",
       "    <tr>\n",
       "      <th>18331</th>\n",
       "      <td>제이에스빌</td>\n",
       "      <td>전북 군산시 조촌동 922-14</td>\n",
       "      <td>126.741422</td>\n",
       "      <td>35.96917085</td>\n",
       "      <td>11</td>\n",
       "    </tr>\n",
       "    <tr>\n",
       "      <th>18332</th>\n",
       "      <td>초원사진관</td>\n",
       "      <td>전북 군산시 신창동 1-5</td>\n",
       "      <td>126.708372</td>\n",
       "      <td>35.98773979</td>\n",
       "      <td>2</td>\n",
       "    </tr>\n",
       "    <tr>\n",
       "      <th>18333</th>\n",
       "      <td>성심당 본점</td>\n",
       "      <td>대전 중구 은행동 145-1</td>\n",
       "      <td>127.427298</td>\n",
       "      <td>36.32766877</td>\n",
       "      <td>11</td>\n",
       "    </tr>\n",
       "    <tr>\n",
       "      <th>18334</th>\n",
       "      <td>국립공주박물관</td>\n",
       "      <td>충남 공주시 웅진동 360</td>\n",
       "      <td>127.111970</td>\n",
       "      <td>36.46550084</td>\n",
       "      <td>2</td>\n",
       "    </tr>\n",
       "    <tr>\n",
       "      <th>18335</th>\n",
       "      <td>설빙 전주한옥마을점</td>\n",
       "      <td>전북 전주시 완산구 풍남동3가 36-15</td>\n",
       "      <td>127.152277</td>\n",
       "      <td>35.81700842</td>\n",
       "      <td>11</td>\n",
       "    </tr>\n",
       "  </tbody>\n",
       "</table>\n",
       "<p>18336 rows × 5 columns</p>\n",
       "</div>"
      ],
      "text/plain": [
       "      VISIT_AREA_NM              LOTNO_ADDR     X_COORD      Y_COORD  \\\n",
       "0           3000냥밥집   충북 영동군 영동읍 계산리 653-12  127.785733     36.17142   \n",
       "1        소노캄여수 마레첼로          전남 여수시 수정동 772  127.754615    34.742572   \n",
       "2          생거진천문화축제      충북 진천군 진천읍 읍내리 165  127.446235    36.858789   \n",
       "3               오목대     전북 전주시 완산구 교동 산 1-3  127.154583    35.814382   \n",
       "4           남당노을전망대   충남 홍성군 서부면 남당리 767-18  126.465582    36.544343   \n",
       "...             ...                     ...         ...          ...   \n",
       "18331         제이에스빌       전북 군산시 조촌동 922-14  126.741422  35.96917085   \n",
       "18332         초원사진관          전북 군산시 신창동 1-5  126.708372  35.98773979   \n",
       "18333        성심당 본점         대전 중구 은행동 145-1  127.427298  36.32766877   \n",
       "18334       국립공주박물관          충남 공주시 웅진동 360  127.111970  36.46550084   \n",
       "18335    설빙 전주한옥마을점  전북 전주시 완산구 풍남동3가 36-15  127.152277  35.81700842   \n",
       "\n",
       "       VISIT_AREA_TYPE_CD  \n",
       "0                      11  \n",
       "1                      11  \n",
       "2                       8  \n",
       "3                       2  \n",
       "4                       1  \n",
       "...                   ...  \n",
       "18331                  11  \n",
       "18332                   2  \n",
       "18333                  11  \n",
       "18334                   2  \n",
       "18335                  11  \n",
       "\n",
       "[18336 rows x 5 columns]"
      ]
     },
     "execution_count": 151,
     "metadata": {},
     "output_type": "execute_result"
    }
   ],
   "source": [
    "tmp_df"
   ]
  },
  {
   "cell_type": "code",
   "execution_count": 152,
   "metadata": {},
   "outputs": [],
   "source": [
    "tmp_df.to_csv(\"./data_visit_for_db.csv\")"
   ]
  }
 ],
 "metadata": {
  "kernelspec": {
   "display_name": "flask",
   "language": "python",
   "name": "python3"
  },
  "language_info": {
   "codemirror_mode": {
    "name": "ipython",
    "version": 3
   },
   "file_extension": ".py",
   "mimetype": "text/x-python",
   "name": "python",
   "nbconvert_exporter": "python",
   "pygments_lexer": "ipython3",
   "version": "3.11.3"
  }
 },
 "nbformat": 4,
 "nbformat_minor": 2
}
